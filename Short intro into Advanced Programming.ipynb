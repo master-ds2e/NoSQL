{
 "cells": [
  {
   "cell_type": "markdown",
   "metadata": {},
   "source": [
    "# Advanced programming\n",
    "\n",
    "## Structure of the course:\n",
    "\n",
    "- Introduction (recap of M1 course)\n",
    "- Chapitre I: Advanced concept\n",
    "- Chapitre II: Web scraping and API\n",
    "- Chapitre III: GPU Programming and machine learning libraries.\n",
    "\n",
    "## Project:\n",
    "\n",
    "- GPU prices monitoring (mainly webscrapping and crossing different sources)\n",
    "- Trading Card Game monitoring and comparison (web scrappin)\n",
    "- Relation between Steam sales and viewers on twitch + a deeper understanding of collaboration ? (API + neo4j ?) \n",
    "- Benchmark of different databases (MAG, PKG, Scopus, ...)\n",
    "- Economic study of Eve online (economics + API)\n",
    "- [halite](https://halite.io/) (reinforcment learning)\n",
    "- Review of movies (web scrapping and recommandation system ?)\n",
    "- Researchgate collaboration network (Webscrapping + Neo4j)\n",
    "- Creation of discord bot with multiple features (API)\n",
    "- Reddit scrapping ?\n",
    "\n",
    "What else ?"
   ]
  }
 ],
 "metadata": {
  "kernelspec": {
   "display_name": "Python 3",
   "language": "python",
   "name": "python3"
  },
  "language_info": {
   "codemirror_mode": {
    "name": "ipython",
    "version": 3
   },
   "file_extension": ".py",
   "mimetype": "text/x-python",
   "name": "python",
   "nbconvert_exporter": "python",
   "pygments_lexer": "ipython3",
   "version": "3.8.3"
  }
 },
 "nbformat": 4,
 "nbformat_minor": 5
}
