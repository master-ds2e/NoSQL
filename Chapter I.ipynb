{
 "cells": [
  {
   "attachments": {},
   "cell_type": "markdown",
   "metadata": {},
   "source": [
    "# Introduction\n",
    "\n",
    "NoSQL databases are a popular alternative to traditional relational databases for handling big data and it offers high scalability, high availability and high flexibility. The course will teach you how to work with NoSQL databases and how to choose the right NoSQL database for your specific needs. \n",
    "\n",
    "## Structure\n",
    "\n",
    "- [Relational databases and tabular data](#RDBMs)\n",
    "- [SQLite](#SQLite)\n",
    "- [MySQL](#MySQL)\n",
    "- [PostgreSQL](#PostgreSQL)\n",
    "- [Intro to NoSQL](#NoSQL)\n",
    "- [Exercises](#Exercise)\n",
    "\n",
    "\n",
    "<a name=\"RDBMs\"></a>\n",
    "## Relational databases and tabular data\n",
    "\n",
    "Before jumping straight on NoSQL DBs let's take a step back with relational databases and tabular data. The most common format you probably encountered in programming is Comma Separated Values (CSV). CSV is a plain text file format used to store tabular data, with each row of the table represented as a separate line in the file and each column separated by a comma or other delimiter.\n",
    "\n"
   ]
  },
  {
   "cell_type": "code",
   "execution_count": 1,
   "metadata": {},
   "outputs": [
    {
     "data": {
      "text/html": [
       "<div>\n",
       "<style scoped>\n",
       "    .dataframe tbody tr th:only-of-type {\n",
       "        vertical-align: middle;\n",
       "    }\n",
       "\n",
       "    .dataframe tbody tr th {\n",
       "        vertical-align: top;\n",
       "    }\n",
       "\n",
       "    .dataframe thead th {\n",
       "        text-align: right;\n",
       "    }\n",
       "</style>\n",
       "<table border=\"1\" class=\"dataframe\">\n",
       "  <thead>\n",
       "    <tr style=\"text-align: right;\">\n",
       "      <th></th>\n",
       "      <th>sepal.length</th>\n",
       "      <th>sepal.width</th>\n",
       "      <th>petal.length</th>\n",
       "      <th>petal.width</th>\n",
       "      <th>variety</th>\n",
       "    </tr>\n",
       "  </thead>\n",
       "  <tbody>\n",
       "    <tr>\n",
       "      <th>0</th>\n",
       "      <td>5.1</td>\n",
       "      <td>3.5</td>\n",
       "      <td>1.4</td>\n",
       "      <td>0.2</td>\n",
       "      <td>Setosa</td>\n",
       "    </tr>\n",
       "    <tr>\n",
       "      <th>1</th>\n",
       "      <td>4.9</td>\n",
       "      <td>3.0</td>\n",
       "      <td>1.4</td>\n",
       "      <td>0.2</td>\n",
       "      <td>Setosa</td>\n",
       "    </tr>\n",
       "    <tr>\n",
       "      <th>2</th>\n",
       "      <td>4.7</td>\n",
       "      <td>3.2</td>\n",
       "      <td>1.3</td>\n",
       "      <td>0.2</td>\n",
       "      <td>Setosa</td>\n",
       "    </tr>\n",
       "    <tr>\n",
       "      <th>3</th>\n",
       "      <td>4.6</td>\n",
       "      <td>3.1</td>\n",
       "      <td>1.5</td>\n",
       "      <td>0.2</td>\n",
       "      <td>Setosa</td>\n",
       "    </tr>\n",
       "    <tr>\n",
       "      <th>4</th>\n",
       "      <td>5.0</td>\n",
       "      <td>3.6</td>\n",
       "      <td>1.4</td>\n",
       "      <td>0.2</td>\n",
       "      <td>Setosa</td>\n",
       "    </tr>\n",
       "  </tbody>\n",
       "</table>\n",
       "</div>"
      ],
      "text/plain": [
       "   sepal.length  sepal.width  petal.length  petal.width variety\n",
       "0           5.1          3.5           1.4          0.2  Setosa\n",
       "1           4.9          3.0           1.4          0.2  Setosa\n",
       "2           4.7          3.2           1.3          0.2  Setosa\n",
       "3           4.6          3.1           1.5          0.2  Setosa\n",
       "4           5.0          3.6           1.4          0.2  Setosa"
      ]
     },
     "execution_count": 1,
     "metadata": {},
     "output_type": "execute_result"
    }
   ],
   "source": [
    "import pandas as pd\n",
    "\n",
    "df = pd.read_csv(\"data/Chap1/iris.csv\")\n",
    "df.head(5)"
   ]
  },
  {
   "cell_type": "code",
   "execution_count": 2,
   "metadata": {},
   "outputs": [
    {
     "name": "stdout",
     "output_type": "stream",
     "text": [
      "0      5.1\n",
      "1      4.9\n",
      "2      4.7\n",
      "3      4.6\n",
      "4      5.0\n",
      "      ... \n",
      "145    6.7\n",
      "146    6.3\n",
      "147    6.5\n",
      "148    6.2\n",
      "149    5.9\n",
      "Name: sepal.length, Length: 150, dtype: float64\n",
      "5.1\n",
      "sepal.length       5.1\n",
      "sepal.width        3.5\n",
      "petal.length       1.4\n",
      "petal.width        0.2\n",
      "variety         Setosa\n",
      "Name: 0, dtype: object\n"
     ]
    },
    {
     "data": {
      "text/html": [
       "<div>\n",
       "<style scoped>\n",
       "    .dataframe tbody tr th:only-of-type {\n",
       "        vertical-align: middle;\n",
       "    }\n",
       "\n",
       "    .dataframe tbody tr th {\n",
       "        vertical-align: top;\n",
       "    }\n",
       "\n",
       "    .dataframe thead th {\n",
       "        text-align: right;\n",
       "    }\n",
       "</style>\n",
       "<table border=\"1\" class=\"dataframe\">\n",
       "  <thead>\n",
       "    <tr style=\"text-align: right;\">\n",
       "      <th></th>\n",
       "      <th>sepal.length</th>\n",
       "      <th>sepal.width</th>\n",
       "      <th>petal.length</th>\n",
       "      <th>petal.width</th>\n",
       "      <th>variety</th>\n",
       "    </tr>\n",
       "  </thead>\n",
       "  <tbody>\n",
       "    <tr>\n",
       "      <th>0</th>\n",
       "      <td>5.1</td>\n",
       "      <td>3.5</td>\n",
       "      <td>1.4</td>\n",
       "      <td>0.2</td>\n",
       "      <td>Setosa</td>\n",
       "    </tr>\n",
       "    <tr>\n",
       "      <th>1</th>\n",
       "      <td>4.9</td>\n",
       "      <td>3.0</td>\n",
       "      <td>1.4</td>\n",
       "      <td>0.2</td>\n",
       "      <td>Setosa</td>\n",
       "    </tr>\n",
       "    <tr>\n",
       "      <th>2</th>\n",
       "      <td>4.7</td>\n",
       "      <td>3.2</td>\n",
       "      <td>1.3</td>\n",
       "      <td>0.2</td>\n",
       "      <td>Setosa</td>\n",
       "    </tr>\n",
       "    <tr>\n",
       "      <th>3</th>\n",
       "      <td>4.6</td>\n",
       "      <td>3.1</td>\n",
       "      <td>1.5</td>\n",
       "      <td>0.2</td>\n",
       "      <td>Setosa</td>\n",
       "    </tr>\n",
       "    <tr>\n",
       "      <th>4</th>\n",
       "      <td>5.0</td>\n",
       "      <td>3.6</td>\n",
       "      <td>1.4</td>\n",
       "      <td>0.2</td>\n",
       "      <td>Setosa</td>\n",
       "    </tr>\n",
       "    <tr>\n",
       "      <th>...</th>\n",
       "      <td>...</td>\n",
       "      <td>...</td>\n",
       "      <td>...</td>\n",
       "      <td>...</td>\n",
       "      <td>...</td>\n",
       "    </tr>\n",
       "    <tr>\n",
       "      <th>145</th>\n",
       "      <td>6.7</td>\n",
       "      <td>3.0</td>\n",
       "      <td>5.2</td>\n",
       "      <td>2.3</td>\n",
       "      <td>Virginica</td>\n",
       "    </tr>\n",
       "    <tr>\n",
       "      <th>146</th>\n",
       "      <td>6.3</td>\n",
       "      <td>2.5</td>\n",
       "      <td>5.0</td>\n",
       "      <td>1.9</td>\n",
       "      <td>Virginica</td>\n",
       "    </tr>\n",
       "    <tr>\n",
       "      <th>147</th>\n",
       "      <td>6.5</td>\n",
       "      <td>3.0</td>\n",
       "      <td>5.2</td>\n",
       "      <td>2.0</td>\n",
       "      <td>Virginica</td>\n",
       "    </tr>\n",
       "    <tr>\n",
       "      <th>148</th>\n",
       "      <td>6.2</td>\n",
       "      <td>3.4</td>\n",
       "      <td>5.4</td>\n",
       "      <td>2.3</td>\n",
       "      <td>Virginica</td>\n",
       "    </tr>\n",
       "    <tr>\n",
       "      <th>149</th>\n",
       "      <td>5.9</td>\n",
       "      <td>3.0</td>\n",
       "      <td>5.1</td>\n",
       "      <td>1.8</td>\n",
       "      <td>Virginica</td>\n",
       "    </tr>\n",
       "  </tbody>\n",
       "</table>\n",
       "<p>146 rows × 5 columns</p>\n",
       "</div>"
      ],
      "text/plain": [
       "     sepal.length  sepal.width  petal.length  petal.width    variety\n",
       "0             5.1          3.5           1.4          0.2     Setosa\n",
       "1             4.9          3.0           1.4          0.2     Setosa\n",
       "2             4.7          3.2           1.3          0.2     Setosa\n",
       "3             4.6          3.1           1.5          0.2     Setosa\n",
       "4             5.0          3.6           1.4          0.2     Setosa\n",
       "..            ...          ...           ...          ...        ...\n",
       "145           6.7          3.0           5.2          2.3  Virginica\n",
       "146           6.3          2.5           5.0          1.9  Virginica\n",
       "147           6.5          3.0           5.2          2.0  Virginica\n",
       "148           6.2          3.4           5.4          2.3  Virginica\n",
       "149           5.9          3.0           5.1          1.8  Virginica\n",
       "\n",
       "[146 rows x 5 columns]"
      ]
     },
     "execution_count": 2,
     "metadata": {},
     "output_type": "execute_result"
    }
   ],
   "source": [
    "print(df[\"sepal.length\"])\n",
    "print(df.at[0,\"sepal.length\"])\n",
    "print(df.loc[0])\n",
    "df[(df[\"sepal.length\"] > 3) & (df[\"petal.length\"] > 1.2)]"
   ]
  },
  {
   "cell_type": "code",
   "execution_count": 3,
   "metadata": {},
   "outputs": [
    {
     "name": "stdout",
     "output_type": "stream",
     "text": [
      "(0, sepal.length       5.1\n",
      "sepal.width        3.5\n",
      "petal.length       1.4\n",
      "petal.width        0.2\n",
      "variety         Setosa\n",
      "Name: 0, dtype: object)\n"
     ]
    }
   ],
   "source": [
    "# Iterate over all db\n",
    "\n",
    "for row in df.iterrows():\n",
    "    print(row)\n",
    "    break"
   ]
  },
  {
   "attachments": {},
   "cell_type": "markdown",
   "metadata": {},
   "source": [
    "Yet tabular data are impractical for huge amount of data \n",
    "\n",
    "Relational databases are a type of database system that organize data into one or more tables or relations, with each table consisting of a set of rows and columns. Each row represents a unique record or entity, while each column represents a particular attribute or characteristic of that entity.\n",
    "\n",
    "In a relational database, the tables are related to each other through common fields or keys. For example, if you have a customer table and an orders table, you could link them through a customer ID field, which would allow you to associate specific orders with specific customers.\n",
    "\n",
    "Relational databases use a structured query language (SQL) to retrieve and manipulate data. SQL allows users to create, update, delete, and retrieve data from one or more tables based on specific criteria or conditions.\n",
    "\n",
    "Relational databases offer several advantages, including:\n",
    "\n",
    "- Data consistency: Data is consistent and standardized across an organization.\n",
    "\n",
    "- Scalability: Relational databases can handle large amounts of data and can easily scale as data volumes increase (Data not in your RAM).\n",
    "\n",
    "- Flexibility: Changes to a database structure can be made relatively easily and without disrupting existing applications or data.\n",
    "\n",
    "- Security: Relational databases offer built-in security features, such as user authentication and access control, to protect sensitive data.\n"
   ]
  },
  {
   "attachments": {},
   "cell_type": "markdown",
   "metadata": {},
   "source": [
    "<a name=\"SQLite\"></a>\n",
    "## SQLite\n",
    "\n",
    "I'll do a short introduction on sqlite3. I think it's a good entry point to SQL since its local and you can still monitor your data visually using [DB Browser](https://sqlitebrowser.org/).\n",
    "\n",
    "\"SQLite is a C-language library that implements a small, fast, self-contained, high-reliability, full-featured, SQL database engine.\" [(Official website)](https://www.sqlite.org/index.html). Sqlite3 is a library that provides an api that allows python 3 to interact with your sqlite DB. Incompatibility with python 2 so beware."
   ]
  },
  {
   "attachments": {},
   "cell_type": "markdown",
   "metadata": {},
   "source": [
    "You can use [DB browser](https://sqlitebrowser.org/) to check if it worked without going through Python. Sqlite3+DB browser is an easy entry point to SQL (still able to see your data, no server involved). Here is an example of basic operations of SQLite on the iris database. Starting with DB already existing:"
   ]
  },
  {
   "cell_type": "code",
   "execution_count": 5,
   "metadata": {},
   "outputs": [
    {
     "name": "stdout",
     "output_type": "stream",
     "text": [
      "[(5.067723578521725e+17, 2.7, 5.1, 1.6, 'Versicolor'), (6.3, 3.3, 6.0, 2.5, 'Virginica'), (5.8, 2.7, 5.1, 1.9, 'Virginica'), (7.1, 3, 5.9, 2.1, 'Virginica'), (6.3, 2.9, 5.6, 1.8, 'Virginica'), (6.5, 3, 5.8, 2.2, 'Virginica'), (7.6, 3, 6.6, 2.1, 'Virginica'), (7.3, 2.9, 6.3, 1.8, 'Virginica'), (6.7, 2.5, 5.8, 1.8, 'Virginica'), (7.2, 3.6, 6.1, 2.5, 'Virginica'), (6.5, 3.2, 5.1, 2.0, 'Virginica'), (6.4, 2.7, 5.3, 1.9, 'Virginica'), (6.8, 3, 5.5, 2.1, 'Virginica'), (5.8, 2.8, 5.1, 2.4, 'Virginica'), (6.4, 3.2, 5.3, 2.3, 'Virginica'), (6.5, 3, 5.5, 1.8, 'Virginica'), (7.7, 3.8, 6.7, 2.2, 'Virginica'), (7.7, 2.6, 6.9, 2.3, 'Virginica'), (6.9, 3.2, 5.7, 2.3, 'Virginica'), (7.7, 2.8, 6.7, 2.0, 'Virginica'), (6.7, 3.3, 5.7, 2.1, 'Virginica'), (7.2, 3.2, 6.0, 1.8, 'Virginica'), (6.4, 2.8, 5.6, 2.1, 'Virginica'), (7.2, 3, 5.8, 1.6, 'Virginica'), (7.4, 2.8, 6.1, 1.9, 'Virginica'), (7.9, 3.8, 6.4, 2.0, 'Virginica'), (6.4, 2.8, 5.6, 2.2, 'Virginica'), (6.3, 2.8, 5.1, 1.5, 'Virginica'), (6.1, 2.6, 5.6, 1.4, 'Virginica'), (7.7, 3, 6.1, 2.3, 'Virginica'), (6.3, 3.4, 5.6, 2.4, 'Virginica'), (6.4, 3.1, 5.5, 1.8, 'Virginica'), (6.9, 3.1, 5.4, 2.1, 'Virginica'), (6.7, 3.1, 5.6, 2.4, 'Virginica'), (6.9, 3.1, 5.1, 2.3, 'Virginica'), (5.8, 2.7, 5.1, 1.9, 'Virginica'), (6.8, 3.2, 5.9, 2.3, 'Virginica'), (6.7, 3.3, 5.7, 2.5, 'Virginica'), (6.7, 3, 5.2, 2.3, 'Virginica'), (6.5, 3, 5.2, 2.0, 'Virginica'), (6.2, 3.4, 5.4, 2.3, 'Virginica'), (5.9, 3, 5.1, 1.8, 'Virginica')]\n",
      "(5.067723578521725e+17, 2.7, 5.1, 1.6, 'Versicolor')\n"
     ]
    }
   ],
   "source": [
    "import sqlite3\n",
    "\n",
    "#  Establishes a connection to an SQLite database file. The only argument is the path (If the file does not exist and empty file is created)\n",
    "conn = sqlite3.connect('data/Chap1/iris.db')\n",
    "\n",
    "# A cursor in SQL databases is a database object that allows you to retrieve and manipulate a set of data rows returned by a SQL statement, one row at a time.\n",
    "c = conn.cursor()\n",
    "\n",
    "# READ query (SQL language), Look at all the iris with sepal length > 5.\n",
    "c.execute(\"\"\"SELECT * FROM iris WHERE \"petal.length\" > 5\"\"\")\n",
    "\n",
    "#%% Two methods to go through your result\n",
    "\n",
    "# All in RAM\n",
    "docs = c.fetchall()\n",
    "print(docs)\n",
    "\n",
    "# Iteration\n",
    "\n",
    "c.execute(\"\"\"SELECT * FROM iris WHERE \"petal.length\" > 5\"\"\")\n",
    "\n",
    "for i in c:\n",
    "    print(i)\n",
    "    break\n"
   ]
  },
  {
   "cell_type": "code",
   "execution_count": 6,
   "metadata": {},
   "outputs": [],
   "source": [
    "# UPDATE\n",
    "\n",
    "c.execute(\"\"\"UPDATE iris\n",
    "             SET \"sepal.length\" = 3\n",
    "             WHERE variety == \"Versicolor\" \"\"\")\n",
    "\n",
    "conn.commit()"
   ]
  },
  {
   "cell_type": "code",
   "execution_count": 7,
   "metadata": {},
   "outputs": [],
   "source": [
    "c.execute(\"\"\"UPDATE iris\n",
    "             SET \"sepal.length\" = random()+1\n",
    "             WHERE variety == \"Versicolor\" \"\"\")\n",
    "\n",
    "conn.commit()"
   ]
  },
  {
   "cell_type": "code",
   "execution_count": null,
   "metadata": {},
   "outputs": [],
   "source": [
    "# DELETE\n",
    "\n",
    "c.execute(\"\"\"DELETE FROM iris WHERE \"sepal.length\" > 5\"\"\")\n",
    "\n",
    "#conn.commit() #warning it will alter your db "
   ]
  },
  {
   "attachments": {},
   "cell_type": "markdown",
   "metadata": {},
   "source": [
    "Now if the Database does not exist we can create it the following way"
   ]
  },
  {
   "cell_type": "code",
   "execution_count": 8,
   "metadata": {},
   "outputs": [
    {
     "name": "stdout",
     "output_type": "stream",
     "text": [
      "no such table: main.id\n"
     ]
    }
   ],
   "source": [
    "import tqdm\n",
    "import sqlite3\n",
    "import pandas as pd\n",
    "\n",
    "df = pd.read_csv('data/Chap1/iris.csv')\n",
    "\n",
    "conn = sqlite3.connect('data/Chap1/iris_manual.db')\n",
    "c = conn.cursor()\n",
    "\n",
    "# Simple function to create table\n",
    "\n",
    "def create_table_iris():\n",
    "    try:\n",
    "        c.execute(\"\"\"CREATE TABLE IF NOT EXISTS iris(id INT PRIMARY KEY, \"sepal.length\" FLOAT, \"sepal.width\" FLOAT,\n",
    "                     \"petal.length\" FLOAT, \"petal.width\" FLOAT, variety TEXT)\"\"\")\n",
    "        # When an index is created on a column, the database system creates a data structure that contains a sorted copy of the column's values. \n",
    "        # This allows the database system to perform data retrieval operations more quickly than if it had to scan the entire table every time a query was executed.\n",
    "        c.execute(\"CREATE INDEX fast_id ON id(id)\")\n",
    "        conn.commit()\n",
    "    except Exception as e:\n",
    "        print(str(e))\n",
    "        \n",
    "# Sqlite3 excepts a table named \"main\" and therefore gives you a warning (can be ignored)\n",
    "create_table_iris()\n",
    "\n"
   ]
  },
  {
   "cell_type": "code",
   "execution_count": 9,
   "metadata": {},
   "outputs": [
    {
     "name": "stderr",
     "output_type": "stream",
     "text": [
      "150it [00:00, 231.03it/s]\n"
     ]
    }
   ],
   "source": [
    "# One by one\n",
    "\n",
    "query = \"\"\"INSERT INTO iris(id, \"sepal.length\", \"sepal.width\", \"petal.length\", \"petal.width\", variety) VALUES (?,?,?,?,?,?)\"\"\"\n",
    "\n",
    "for row in tqdm.tqdm(df.iterrows()):\n",
    "    id_ = row[0]\n",
    "    sepal_length = row[1][\"sepal.length\"]\n",
    "    sepal_width = row[1][\"sepal.width\"]\n",
    "    petal_length = row[1][\"petal.length\"]\n",
    "    petal_width = row[1][\"petal.width\"]\n",
    "    variety = row[1][\"variety\"]\n",
    "    values = (id_,sepal_length,sepal_width,petal_length, petal_width,variety)\n",
    "    c.execute(query, values)\n",
    "    conn.commit()"
   ]
  },
  {
   "cell_type": "code",
   "execution_count": 10,
   "metadata": {},
   "outputs": [
    {
     "name": "stdout",
     "output_type": "stream",
     "text": [
      "[(1.6, 'Setosa', 0.2459999999999999, 12.299999999999995, 50, 0.1, 0.6), (4.8, 'Versicolor', 1.3259999999999998, 66.3, 50, 1.0, 1.8), (6.0, 'Virginica', 2.026, 101.29999999999998, 50, 1.4, 2.5)]\n"
     ]
    }
   ],
   "source": [
    "# Aggregate function\n",
    "\n",
    "import sqlite3\n",
    "\n",
    "conn = sqlite3.connect('data/Chap1/iris_manual.db')\n",
    "c = conn.cursor()\n",
    "\n",
    "c.execute(\"\"\"SELECT \"petal.length\", variety, AVG(\"petal.width\"), SUM(\"petal.width\"), COUNT(\"petal.width\"), MIN(\"petal.width\"), MAX(\"petal.width\")\n",
    "             FROM iris \n",
    "             GROUP BY variety\n",
    "             \"\"\")\n",
    "\n",
    "docs = c.fetchall()\n",
    "print(docs)"
   ]
  },
  {
   "cell_type": "code",
   "execution_count": 11,
   "metadata": {},
   "outputs": [
    {
     "name": "stdout",
     "output_type": "stream",
     "text": [
      "no such table: main.id\n"
     ]
    },
    {
     "name": "stderr",
     "output_type": "stream",
     "text": [
      "100%|██████████| 100/100 [00:00<00:00, 224.79it/s]\n"
     ]
    }
   ],
   "source": [
    "import sqlite3\n",
    "import tqdm\n",
    "\n",
    "conn = sqlite3.connect('data/Chap1/benchmark.db')\n",
    "c = conn.cursor()\n",
    "\n",
    "def create_table_benchmark():\n",
    "    try:\n",
    "        c.execute(\"\"\"CREATE TABLE IF NOT EXISTS test(id INT PRIMARY KEY)\"\"\")\n",
    "        c.execute(\"CREATE INDEX fast_id ON id(id)\")\n",
    "        conn.commit()\n",
    "    except Exception as e:\n",
    "        print(str(e))\n",
    "        \n",
    "create_table_benchmark()\n",
    "\n",
    "\n",
    "query = \"\"\"INSERT INTO test(id) VALUES (?)\"\"\"\n",
    "\n",
    "for i in tqdm.tqdm(range(0,100,1)):\n",
    "    values = (i,)\n",
    "    c.execute(query, values)\n",
    "    conn.commit()"
   ]
  },
  {
   "cell_type": "code",
   "execution_count": 12,
   "metadata": {},
   "outputs": [
    {
     "name": "stdout",
     "output_type": "stream",
     "text": [
      "no such table: main.id\n"
     ]
    },
    {
     "name": "stderr",
     "output_type": "stream",
     "text": [
      "100%|██████████| 1000000/1000000 [00:01<00:00, 511323.96it/s]\n"
     ]
    }
   ],
   "source": [
    "import sqlite3\n",
    "import tqdm\n",
    "\n",
    "conn = sqlite3.connect('data/Chap1/benchmark.db')\n",
    "c = conn.cursor()\n",
    "\n",
    "\n",
    "def create_table_benchmark():\n",
    "    try:\n",
    "        c.execute(\"\"\"CREATE TABLE IF NOT EXISTS test2(id INT PRIMARY KEY)\"\"\")\n",
    "        c.execute(\"CREATE INDEX fast_id ON id(id)\")\n",
    "        conn.commit()\n",
    "    except Exception as e:\n",
    "        print(str(e))\n",
    "        \n",
    "create_table_benchmark()\n",
    "\n",
    "query = \"\"\"INSERT INTO test2(id) VALUES (?)\"\"\"\n",
    "\n",
    "for i in tqdm.tqdm(range(0,1000000,1)):\n",
    "    values = (i,)\n",
    "    c.execute(query, values)\n",
    "conn.commit()"
   ]
  },
  {
   "cell_type": "code",
   "execution_count": 13,
   "metadata": {},
   "outputs": [
    {
     "name": "stdout",
     "output_type": "stream",
     "text": [
      "no such table: main.id\n"
     ]
    },
    {
     "name": "stderr",
     "output_type": "stream",
     "text": [
      "100%|██████████| 500000/500000 [00:00<00:00, 605883.72it/s]\n"
     ]
    }
   ],
   "source": [
    "import sqlite3\n",
    "import tqdm\n",
    "\n",
    "conn = sqlite3.connect('data/Chap1/benchmark.db')\n",
    "c = conn.cursor()\n",
    "\n",
    "def create_table_benchmark():\n",
    "    try:\n",
    "        c.execute(\"\"\"CREATE TABLE IF NOT EXISTS test3(id INT PRIMARY KEY)\"\"\")\n",
    "        c.execute(\"CREATE INDEX fast_id ON id(id)\")\n",
    "        conn.commit()\n",
    "    except Exception as e:\n",
    "        print(str(e))\n",
    "        \n",
    "create_table_benchmark()\n",
    "\n",
    "query = \"\"\"INSERT INTO test3(id) VALUES (?)\"\"\"\n",
    "\n",
    "\n",
    "list_of_insertion = []\n",
    "for i in tqdm.tqdm(range(0,1000000,2)):\n",
    "    values = (i,)\n",
    "    list_of_insertion.append(values)\n",
    "    if len(list_of_insertion) == 10000:\n",
    "        c.executemany(query, list_of_insertion)\n",
    "        list_of_insertion = []\n",
    "conn.commit()"
   ]
  },
  {
   "attachments": {},
   "cell_type": "markdown",
   "metadata": {},
   "source": [
    "Data won't be this clean in your day-to-day job. Let us take an example of a research article each observation can have different length of authors/references/..."
   ]
  },
  {
   "cell_type": "code",
   "execution_count": 14,
   "metadata": {},
   "outputs": [],
   "source": [
    "# Init variables\n",
    "authors = [\"Auteur1\",\"Auteur2\",\"Auteur3\"]\n",
    "title = \"This is paper 1\"\n",
    "affiliations = [\"University of Mannheim\",\"University of Strasbourg\"]\n",
    "ref = [\"This is ref 1\",\"This is ref 2\",\"This is ref 3\"]"
   ]
  },
  {
   "cell_type": "code",
   "execution_count": 15,
   "metadata": {},
   "outputs": [
    {
     "name": "stdout",
     "output_type": "stream",
     "text": [
      "Auteur1\n",
      "Auteur2\n",
      "Auteur3\n"
     ]
    }
   ],
   "source": [
    "# Collapse list\n",
    "\n",
    "authors = \"\\n\".join(authors)\n",
    "aff = \"\\n\".join(affiliations)\n",
    "ref = \"\\n\".join(ref)\n",
    "print(authors)"
   ]
  },
  {
   "cell_type": "code",
   "execution_count": 16,
   "metadata": {},
   "outputs": [
    {
     "name": "stdout",
     "output_type": "stream",
     "text": [
      "no such table: main.id\n"
     ]
    }
   ],
   "source": [
    "# Create the DB\n",
    "import sqlite3\n",
    "\n",
    "conn = sqlite3.connect('data/Chap1/tuts.db')\n",
    "c = conn.cursor()\n",
    "\n",
    "def create_table_test():\n",
    "    try:\n",
    "        c.execute(\"\"\"CREATE TABLE IF NOT EXISTS test(id INT PRIMARY KEY, authors TEXT,\n",
    "                    title TEXT,affiliations TEXT, ref TEXT)\"\"\")\n",
    "        c.execute(\"CREATE INDEX fast_id ON id(id)\")\n",
    "        conn.commit()\n",
    "    except Exception as e:\n",
    "        print(str(e))\n",
    "        \n",
    "create_table_test()\n"
   ]
  },
  {
   "cell_type": "code",
   "execution_count": 17,
   "metadata": {},
   "outputs": [
    {
     "ename": "IntegrityError",
     "evalue": "UNIQUE constraint failed: test.id",
     "output_type": "error",
     "traceback": [
      "\u001b[1;31m---------------------------------------------------------------------------\u001b[0m",
      "\u001b[1;31mIntegrityError\u001b[0m                            Traceback (most recent call last)",
      "\u001b[1;32m~\\AppData\\Local\\Temp\\ipykernel_25912\\1369819081.py\u001b[0m in \u001b[0;36m<module>\u001b[1;34m\u001b[0m\n\u001b[0;32m      2\u001b[0m \u001b[0mquery\u001b[0m \u001b[1;33m=\u001b[0m \u001b[1;34m\"\"\"INSERT INTO test(id, authors,title,affiliations, ref) VALUES (?,?,?,?,?)\"\"\"\u001b[0m\u001b[1;33m\u001b[0m\u001b[1;33m\u001b[0m\u001b[0m\n\u001b[0;32m      3\u001b[0m \u001b[0mvalues\u001b[0m \u001b[1;33m=\u001b[0m \u001b[1;33m(\u001b[0m\u001b[1;36m3\u001b[0m\u001b[1;33m,\u001b[0m\u001b[0mauthors\u001b[0m\u001b[1;33m,\u001b[0m\u001b[0mtitle\u001b[0m\u001b[1;33m,\u001b[0m\u001b[0maff\u001b[0m\u001b[1;33m,\u001b[0m \u001b[0mref\u001b[0m\u001b[1;33m)\u001b[0m\u001b[1;33m\u001b[0m\u001b[1;33m\u001b[0m\u001b[0m\n\u001b[1;32m----> 4\u001b[1;33m \u001b[0mc\u001b[0m\u001b[1;33m.\u001b[0m\u001b[0mexecute\u001b[0m\u001b[1;33m(\u001b[0m\u001b[0mquery\u001b[0m\u001b[1;33m,\u001b[0m \u001b[0mvalues\u001b[0m\u001b[1;33m)\u001b[0m\u001b[1;33m\u001b[0m\u001b[1;33m\u001b[0m\u001b[0m\n\u001b[0m\u001b[0;32m      5\u001b[0m \u001b[0mconn\u001b[0m\u001b[1;33m.\u001b[0m\u001b[0mcommit\u001b[0m\u001b[1;33m(\u001b[0m\u001b[1;33m)\u001b[0m\u001b[1;33m\u001b[0m\u001b[1;33m\u001b[0m\u001b[0m\n",
      "\u001b[1;31mIntegrityError\u001b[0m: UNIQUE constraint failed: test.id"
     ]
    }
   ],
   "source": [
    "# SQL can be finicky when trying to insert using python, big difference between \" and '\n",
    "query = \"\"\"INSERT INTO test(id, authors,title,affiliations, ref) VALUES (?,?,?,?,?)\"\"\"\n",
    "values = (3,authors,title,aff, ref)\n",
    "c.execute(query, values)\n",
    "conn.commit()"
   ]
  },
  {
   "cell_type": "markdown",
   "metadata": {},
   "source": [
    "Now that we have a DB with multiple tables (benchmark) I think its time to introduce a fundamental concept in SQL: **Join**\n",
    "\n",
    "**Join:** A join is an operation that combines rows from two or more tables based on a related column between them. It allows you to retrieve data from multiple tables simultaneously, based on a common column or set of columns. There is multiple types of join Left Join, Right Join, Full Join, Inner Join.\n",
    "\n",
    "Since the goal of the course is NoSQL we will go more into details of the Joins in Chapter III. Here is a small example of left join."
   ]
  },
  {
   "cell_type": "code",
   "execution_count": 19,
   "metadata": {},
   "outputs": [
    {
     "name": "stdout",
     "output_type": "stream",
     "text": [
      "[(0, 0), (1, None), (2, 2), (3, None), (4, 4), (5, None), (6, 6), (7, None), (8, 8), (9, None), (10, 10), (11, None), (12, 12), (13, None), (14, 14), (15, None), (16, 16), (17, None), (18, 18), (19, None), (20, 20), (21, None), (22, 22), (23, None), (24, 24), (25, None), (26, 26), (27, None), (28, 28), (29, None), (30, 30), (31, None), (32, 32), (33, None), (34, 34), (35, None), (36, 36), (37, None), (38, 38), (39, None), (40, 40), (41, None), (42, 42), (43, None), (44, 44), (45, None), (46, 46), (47, None), (48, 48), (49, None), (50, 50), (51, None), (52, 52), (53, None), (54, 54), (55, None), (56, 56), (57, None), (58, 58), (59, None), (60, 60), (61, None), (62, 62), (63, None), (64, 64), (65, None), (66, 66), (67, None), (68, 68), (69, None), (70, 70), (71, None), (72, 72), (73, None), (74, 74), (75, None), (76, 76), (77, None), (78, 78), (79, None), (80, 80), (81, None), (82, 82), (83, None), (84, 84), (85, None), (86, 86), (87, None), (88, 88), (89, None), (90, 90), (91, None), (92, 92), (93, None), (94, 94), (95, None), (96, 96), (97, None), (98, 98), (99, None)]\n"
     ]
    }
   ],
   "source": [
    "import sqlite3\n",
    "\n",
    "conn = sqlite3.connect('data/Chap1/benchmark.db')\n",
    "c = conn.cursor()\n",
    "\n",
    "c.execute(\"\"\"SELECT test.id as id_table1, test3.id as id_table2\n",
    "             FROM test \n",
    "             LEFT JOIN test3 \n",
    "             ON test.id=test3.id\n",
    "             \"\"\")\n",
    "\n",
    "docs = c.fetchall()\n",
    "print(docs)"
   ]
  },
  {
   "cell_type": "markdown",
   "metadata": {},
   "source": [
    "Consider a scenario where you've performed a left join operation, combining data from multiple tables, and you now want to work with this combined dataset without saving it permanently. You might find yourself repeatedly executing this join query whenever you need to perform more advanced operations, such as using aggregate functions. Alternatively, you may wish to streamline your script by creating a 'shortcut' that automatically executes this join query when needed, improving readability and maintainability.\n",
    "\n",
    "This is where the concept of a **'View'** becomes valuable. A view in SQL allows you to define a virtual table based on a query's result set, without physically storing the data. Essentially, a view acts as a saved query that can be referenced like a table. It provides a convenient way to encapsulate complex queries and present data in a structured format.\n",
    "\n",
    "It's important to note that while using a view enhances readability and organization of your SQL code, the underlying query defined in the view is still executed each time the view is accessed. Therefore, there's no performance gain in terms of execution time; rather, the benefit lies in improved code readability and maintainability.\""
   ]
  },
  {
   "cell_type": "code",
   "execution_count": 20,
   "metadata": {},
   "outputs": [],
   "source": [
    "import sqlite3\n",
    "\n",
    "conn = sqlite3.connect('data/Chap1/benchmark.db')\n",
    "c = conn.cursor()\n",
    "\n",
    "# Create the view\n",
    "c.execute(\"\"\"CREATE VIEW test_join_view AS\n",
    "             SELECT test.id as id_table1, test2.id as id_table2\n",
    "             FROM test \n",
    "             LEFT JOIN test2 \n",
    "             ON test.id=test2.id\"\"\")\n",
    "\n",
    "# Commit the transaction\n",
    "conn.commit()\n",
    "\n",
    "# Close the connection\n",
    "conn.close()"
   ]
  },
  {
   "cell_type": "code",
   "execution_count": 21,
   "metadata": {},
   "outputs": [
    {
     "name": "stdout",
     "output_type": "stream",
     "text": [
      "[(51, 51), (52, 52), (53, 53), (54, 54), (55, 55), (56, 56), (57, 57), (58, 58), (59, 59), (60, 60), (61, 61), (62, 62), (63, 63), (64, 64), (65, 65), (66, 66), (67, 67), (68, 68), (69, 69), (70, 70), (71, 71), (72, 72), (73, 73), (74, 74), (75, 75), (76, 76), (77, 77), (78, 78), (79, 79), (80, 80), (81, 81), (82, 82), (83, 83), (84, 84), (85, 85), (86, 86), (87, 87), (88, 88), (89, 89), (90, 90), (91, 91), (92, 92), (93, 93), (94, 94), (95, 95), (96, 96), (97, 97), (98, 98), (99, 99)]\n"
     ]
    }
   ],
   "source": [
    "# Connect to the database\n",
    "conn = sqlite3.connect('data/Chap1/benchmark.db')\n",
    "c = conn.cursor()\n",
    "\n",
    "# Query the view\n",
    "c.execute(\"\"\"SELECT * FROM test_join_view\n",
    "             WHERE id_table1 > 50\"\"\")\n",
    "docs = c.fetchall()\n",
    "print(docs)\n",
    "\n",
    "# Close the connection\n",
    "conn.close()"
   ]
  },
  {
   "cell_type": "code",
   "execution_count": 22,
   "metadata": {},
   "outputs": [],
   "source": [
    "import sqlite3\n",
    "\n",
    "# Connect to the database\n",
    "conn = sqlite3.connect('data/Chap1/benchmark.db')\n",
    "c = conn.cursor()\n",
    "\n",
    "# Drop the view\n",
    "c.execute(\"DROP VIEW IF EXISTS test_join_view\")\n",
    "\n",
    "# Commit the transaction\n",
    "conn.commit()\n",
    "\n",
    "# Close the connection\n",
    "conn.close()"
   ]
  },
  {
   "attachments": {},
   "cell_type": "markdown",
   "metadata": {},
   "source": [
    "CTE, subqueries, temptables\n",
    "\n",
    "[Here]( https://www.sqltutorial.org/sql-cheat-sheet/) are some cheat sheet for SQL querys.\n",
    "\n",
    "SQLite is really useful to learn the language but chances are you will work with an online server and will need to use things like MySQL, Oracle, PostgreSQL,...\n",
    "The language is always (almost) the same but the way you will connect and run query might change.\n",
    "\n",
    "<a name=\"MySQL\"></a>\n",
    "## MySQL\n",
    "\n",
    "MySQL is an open-source relational database management system (RDBMS) that is based on the structure query language (SQL). It is developed, distributed, and supported by Oracle Corporation. It provides a powerful, scalable, and reliable platform for managing and manipulating large sets of data. MySQL is known for its ease of use, performance, and robustness, making it a widely adopted solution for various types of database-driven applications ranging from small-scale projects to enterprise-level systems.\n",
    "\n",
    "Let's just do a simple example of MySQL:\n",
    "\n",
    "From here https://dev.mysql.com/downloads/ you need to DL the community server, the workbench. Once they are all installed and the server is up and running you should be able to run the next code"
   ]
  },
  {
   "cell_type": "code",
   "execution_count": 1,
   "metadata": {},
   "outputs": [
    {
     "name": "stdout",
     "output_type": "stream",
     "text": [
      "Collecting mysql-connector-python\n",
      "  Downloading mysql_connector_python-8.3.0-cp39-cp39-win_amd64.whl (15.4 MB)\n",
      "     --------------------------------------- 15.4/15.4 MB 11.9 MB/s eta 0:00:00\n",
      "Installing collected packages: mysql-connector-python\n",
      "Successfully installed mysql-connector-python-8.3.0\n"
     ]
    }
   ],
   "source": [
    "!pip install mysql-connector-python"
   ]
  },
  {
   "cell_type": "code",
   "execution_count": 18,
   "metadata": {},
   "outputs": [
    {
     "name": "stdout",
     "output_type": "stream",
     "text": [
      "<mysql.connector.connection_cext.CMySQLConnection object at 0x000001422BABDE50>\n"
     ]
    }
   ],
   "source": [
    "import mysql.connector\n",
    "\n",
    "mydb = mysql.connector.connect(\n",
    "  host=\"localhost\",\n",
    "  user=\"root\",\n",
    "  password=\"root\"\n",
    ")\n",
    "\n",
    "print(mydb) \n",
    "\n",
    "c = mydb.cursor()\n",
    "\n",
    "c.execute(\"CREATE DATABASE mydatabase\")\n"
   ]
  },
  {
   "attachments": {},
   "cell_type": "markdown",
   "metadata": {},
   "source": [
    "If a database already exist you can connect directly to it"
   ]
  },
  {
   "cell_type": "code",
   "execution_count": 19,
   "metadata": {},
   "outputs": [],
   "source": [
    "import mysql.connector\n",
    "\n",
    "mydb = mysql.connector.connect(\n",
    "  host=\"localhost\",\n",
    "  user=\"root\",\n",
    "  password=\"root\",\n",
    "  database=\"mydatabase\"\n",
    ")\n",
    "\n",
    "c = mydb.cursor()\n",
    "\n",
    "c.execute(\"CREATE TABLE customers (name VARCHAR(255), address VARCHAR(255))\")\n"
   ]
  },
  {
   "attachments": {},
   "cell_type": "markdown",
   "metadata": {},
   "source": [
    "You can now look at the DB in the workbench and execute query as seen in SQLite\n",
    "\n",
    "For the rest of this section I will show you a more concrete examples. The data is from this [PowerBI tutorial](https://www.youtube.com/watch?v=e6QD8lP-m6E) (I really recommend it just to put PowerBI in your CV)"
   ]
  },
  {
   "cell_type": "code",
   "execution_count": 1,
   "metadata": {},
   "outputs": [],
   "source": [
    "import pandas as pd\n",
    "import mysql.connector\n",
    "\n",
    "mydb = mysql.connector.connect(\n",
    "  host=\"localhost\",\n",
    "  user=\"root\",\n",
    "  password=\"root\",\n",
    "  database=\"m1_ds2e\"\n",
    ")\n",
    "\n",
    "c = mydb.cursor()\n",
    "\n",
    "c.execute(\"SELECT * FROM sample_superstore\")\n",
    "\n",
    "docs = c.fetchall()\n",
    "\n",
    "columns = [description[0] for description in c.description]\n",
    "df = pd.DataFrame(docs, columns=columns)"
   ]
  },
  {
   "cell_type": "code",
   "execution_count": 7,
   "metadata": {},
   "outputs": [
    {
     "data": {
      "text/plain": [
       "[('Row ID', 3, None, None, None, None, 1, 32768, 63),\n",
       " ('Order Priority', 252, None, None, None, None, 1, 16, 255),\n",
       " ('Discount', 5, None, None, None, None, 1, 32768, 63),\n",
       " ('Unit Price', 5, None, None, None, None, 1, 32768, 63),\n",
       " ('Shipping Cost', 5, None, None, None, None, 1, 32768, 63),\n",
       " ('Customer ID', 3, None, None, None, None, 1, 32768, 63),\n",
       " ('Customer Name', 252, None, None, None, None, 1, 16, 255),\n",
       " ('Ship Mode', 252, None, None, None, None, 1, 16, 255),\n",
       " ('Customer Segment', 252, None, None, None, None, 1, 16, 255),\n",
       " ('Product Category', 252, None, None, None, None, 1, 16, 255),\n",
       " ('Product Sub-Category', 252, None, None, None, None, 1, 16, 255),\n",
       " ('Product Container', 252, None, None, None, None, 1, 16, 255),\n",
       " ('Product Name', 252, None, None, None, None, 1, 16, 255),\n",
       " ('Product Base Margin', 5, None, None, None, None, 1, 32768, 63),\n",
       " ('Region', 252, None, None, None, None, 1, 16, 255),\n",
       " ('State or Province', 252, None, None, None, None, 1, 16, 255),\n",
       " ('City', 252, None, None, None, None, 1, 16, 255),\n",
       " ('Postal Code', 3, None, None, None, None, 1, 32768, 63),\n",
       " ('Order Date', 252, None, None, None, None, 1, 16, 255),\n",
       " ('Ship Date', 252, None, None, None, None, 1, 16, 255),\n",
       " ('Profit', 5, None, None, None, None, 1, 32768, 63),\n",
       " ('Quantity ordered new', 3, None, None, None, None, 1, 32768, 63),\n",
       " ('Sales', 5, None, None, None, None, 1, 32768, 63),\n",
       " ('Order ID', 3, None, None, None, None, 1, 32768, 63)]"
      ]
     },
     "execution_count": 7,
     "metadata": {},
     "output_type": "execute_result"
    }
   ],
   "source": [
    "[description for description in c.description]"
   ]
  },
  {
   "cell_type": "code",
   "execution_count": 2,
   "metadata": {},
   "outputs": [
    {
     "data": {
      "text/html": [
       "<div>\n",
       "<style scoped>\n",
       "    .dataframe tbody tr th:only-of-type {\n",
       "        vertical-align: middle;\n",
       "    }\n",
       "\n",
       "    .dataframe tbody tr th {\n",
       "        vertical-align: top;\n",
       "    }\n",
       "\n",
       "    .dataframe thead th {\n",
       "        text-align: right;\n",
       "    }\n",
       "</style>\n",
       "<table border=\"1\" class=\"dataframe\">\n",
       "  <thead>\n",
       "    <tr style=\"text-align: right;\">\n",
       "      <th></th>\n",
       "      <th>Row ID</th>\n",
       "      <th>Order Priority</th>\n",
       "      <th>Discount</th>\n",
       "      <th>Unit Price</th>\n",
       "      <th>Shipping Cost</th>\n",
       "      <th>Customer ID</th>\n",
       "      <th>Customer Name</th>\n",
       "      <th>Ship Mode</th>\n",
       "      <th>Customer Segment</th>\n",
       "      <th>Product Category</th>\n",
       "      <th>...</th>\n",
       "      <th>Region</th>\n",
       "      <th>State or Province</th>\n",
       "      <th>City</th>\n",
       "      <th>Postal Code</th>\n",
       "      <th>Order Date</th>\n",
       "      <th>Ship Date</th>\n",
       "      <th>Profit</th>\n",
       "      <th>Quantity ordered new</th>\n",
       "      <th>Sales</th>\n",
       "      <th>Order ID</th>\n",
       "    </tr>\n",
       "  </thead>\n",
       "  <tbody>\n",
       "    <tr>\n",
       "      <th>0</th>\n",
       "      <td>18606</td>\n",
       "      <td>Not Specified</td>\n",
       "      <td>0.01</td>\n",
       "      <td>2.88</td>\n",
       "      <td>0.50</td>\n",
       "      <td>2</td>\n",
       "      <td>Janice Fletcher</td>\n",
       "      <td>Regular Air</td>\n",
       "      <td>Corporate</td>\n",
       "      <td>Office Supplies</td>\n",
       "      <td>...</td>\n",
       "      <td>Central</td>\n",
       "      <td>Illinois</td>\n",
       "      <td>Addison</td>\n",
       "      <td>60101</td>\n",
       "      <td>5/28/2012</td>\n",
       "      <td>5/30/2012</td>\n",
       "      <td>1.3200</td>\n",
       "      <td>2</td>\n",
       "      <td>5.90</td>\n",
       "      <td>88525</td>\n",
       "    </tr>\n",
       "    <tr>\n",
       "      <th>1</th>\n",
       "      <td>20847</td>\n",
       "      <td>High</td>\n",
       "      <td>0.01</td>\n",
       "      <td>2.84</td>\n",
       "      <td>0.93</td>\n",
       "      <td>3</td>\n",
       "      <td>Bonnie Potter</td>\n",
       "      <td>Express Air</td>\n",
       "      <td>Corporate</td>\n",
       "      <td>Office Supplies</td>\n",
       "      <td>...</td>\n",
       "      <td>West</td>\n",
       "      <td>Washington</td>\n",
       "      <td>Anacortes</td>\n",
       "      <td>98221</td>\n",
       "      <td>7/7/2010</td>\n",
       "      <td>7/8/2010</td>\n",
       "      <td>4.5600</td>\n",
       "      <td>4</td>\n",
       "      <td>13.01</td>\n",
       "      <td>88522</td>\n",
       "    </tr>\n",
       "    <tr>\n",
       "      <th>2</th>\n",
       "      <td>23086</td>\n",
       "      <td>Not Specified</td>\n",
       "      <td>0.03</td>\n",
       "      <td>6.68</td>\n",
       "      <td>6.15</td>\n",
       "      <td>3</td>\n",
       "      <td>Bonnie Potter</td>\n",
       "      <td>Express Air</td>\n",
       "      <td>Corporate</td>\n",
       "      <td>Office Supplies</td>\n",
       "      <td>...</td>\n",
       "      <td>West</td>\n",
       "      <td>Washington</td>\n",
       "      <td>Anacortes</td>\n",
       "      <td>98221</td>\n",
       "      <td>7/27/2011</td>\n",
       "      <td>7/28/2011</td>\n",
       "      <td>-47.6400</td>\n",
       "      <td>7</td>\n",
       "      <td>49.92</td>\n",
       "      <td>88523</td>\n",
       "    </tr>\n",
       "    <tr>\n",
       "      <th>3</th>\n",
       "      <td>23087</td>\n",
       "      <td>Not Specified</td>\n",
       "      <td>0.01</td>\n",
       "      <td>5.68</td>\n",
       "      <td>3.60</td>\n",
       "      <td>3</td>\n",
       "      <td>Bonnie Potter</td>\n",
       "      <td>Regular Air</td>\n",
       "      <td>Corporate</td>\n",
       "      <td>Office Supplies</td>\n",
       "      <td>...</td>\n",
       "      <td>West</td>\n",
       "      <td>Washington</td>\n",
       "      <td>Anacortes</td>\n",
       "      <td>98221</td>\n",
       "      <td>7/27/2011</td>\n",
       "      <td>7/28/2011</td>\n",
       "      <td>-30.5100</td>\n",
       "      <td>7</td>\n",
       "      <td>41.64</td>\n",
       "      <td>88523</td>\n",
       "    </tr>\n",
       "    <tr>\n",
       "      <th>4</th>\n",
       "      <td>23088</td>\n",
       "      <td>Not Specified</td>\n",
       "      <td>0.00</td>\n",
       "      <td>205.99</td>\n",
       "      <td>2.50</td>\n",
       "      <td>3</td>\n",
       "      <td>Bonnie Potter</td>\n",
       "      <td>Express Air</td>\n",
       "      <td>Corporate</td>\n",
       "      <td>Technology</td>\n",
       "      <td>...</td>\n",
       "      <td>West</td>\n",
       "      <td>Washington</td>\n",
       "      <td>Anacortes</td>\n",
       "      <td>98221</td>\n",
       "      <td>7/27/2011</td>\n",
       "      <td>7/27/2011</td>\n",
       "      <td>998.2023</td>\n",
       "      <td>8</td>\n",
       "      <td>1446.67</td>\n",
       "      <td>88523</td>\n",
       "    </tr>\n",
       "  </tbody>\n",
       "</table>\n",
       "<p>5 rows × 24 columns</p>\n",
       "</div>"
      ],
      "text/plain": [
       "   Row ID Order Priority  Discount  Unit Price  Shipping Cost  Customer ID  \\\n",
       "0   18606  Not Specified      0.01        2.88           0.50            2   \n",
       "1   20847           High      0.01        2.84           0.93            3   \n",
       "2   23086  Not Specified      0.03        6.68           6.15            3   \n",
       "3   23087  Not Specified      0.01        5.68           3.60            3   \n",
       "4   23088  Not Specified      0.00      205.99           2.50            3   \n",
       "\n",
       "     Customer Name    Ship Mode Customer Segment Product Category  ...  \\\n",
       "0  Janice Fletcher  Regular Air        Corporate  Office Supplies  ...   \n",
       "1    Bonnie Potter  Express Air        Corporate  Office Supplies  ...   \n",
       "2    Bonnie Potter  Express Air        Corporate  Office Supplies  ...   \n",
       "3    Bonnie Potter  Regular Air        Corporate  Office Supplies  ...   \n",
       "4    Bonnie Potter  Express Air        Corporate       Technology  ...   \n",
       "\n",
       "    Region State or Province       City  Postal Code Order Date  Ship Date  \\\n",
       "0  Central          Illinois    Addison        60101  5/28/2012  5/30/2012   \n",
       "1     West        Washington  Anacortes        98221   7/7/2010   7/8/2010   \n",
       "2     West        Washington  Anacortes        98221  7/27/2011  7/28/2011   \n",
       "3     West        Washington  Anacortes        98221  7/27/2011  7/28/2011   \n",
       "4     West        Washington  Anacortes        98221  7/27/2011  7/27/2011   \n",
       "\n",
       "     Profit  Quantity ordered new    Sales Order ID  \n",
       "0    1.3200                     2     5.90    88525  \n",
       "1    4.5600                     4    13.01    88522  \n",
       "2  -47.6400                     7    49.92    88523  \n",
       "3  -30.5100                     7    41.64    88523  \n",
       "4  998.2023                     8  1446.67    88523  \n",
       "\n",
       "[5 rows x 24 columns]"
      ]
     },
     "execution_count": 2,
     "metadata": {},
     "output_type": "execute_result"
    }
   ],
   "source": [
    "df.head()"
   ]
  },
  {
   "cell_type": "code",
   "execution_count": 6,
   "metadata": {},
   "outputs": [
    {
     "data": {
      "text/plain": [
       "Index(['Row ID', 'Order Priority', 'Discount', 'Unit Price', 'Shipping Cost',\n",
       "       'Customer ID', 'Customer Name', 'Ship Mode', 'Customer Segment',\n",
       "       'Product Category', 'Product Sub-Category', 'Product Container',\n",
       "       'Product Name', 'Product Base Margin', 'Region', 'State or Province',\n",
       "       'City', 'Postal Code', 'Order Date', 'Ship Date', 'Profit',\n",
       "       'Quantity ordered new', 'Sales', 'Order ID'],\n",
       "      dtype='object')"
      ]
     },
     "execution_count": 6,
     "metadata": {},
     "output_type": "execute_result"
    }
   ],
   "source": [
    "df.columns"
   ]
  },
  {
   "cell_type": "markdown",
   "metadata": {},
   "source": [
    "I think this data is perfect to introduce more advanced concepts in SQL.\n",
    "\n",
    "**Group by**: The GROUP BY clause in SQL is used to group rows that have the same values into summary rows, typically to perform aggregate functions on these groups. When you use GROUP BY, you are essentially creating groups of rows based on the values of one or more columns, and then applying aggregate functions to each group.\n"
   ]
  },
  {
   "cell_type": "code",
   "execution_count": 3,
   "metadata": {},
   "outputs": [
    {
     "name": "stdout",
     "output_type": "stream",
     "text": [
      "[('Central', 44.14113552), ('West', 216.86692875949382), ('East', 117.24983701250001), ('South', -37.02356666666667)]\n"
     ]
    }
   ],
   "source": [
    "import mysql.connector\n",
    "\n",
    "mydb = mysql.connector.connect(\n",
    "    host=\"localhost\",\n",
    "    user=\"root\",\n",
    "    password=\"root\",\n",
    "    database=\"m1_ds2e\"\n",
    ")\n",
    "\n",
    "c = mydb.cursor()\n",
    "\n",
    "c.execute( \"\"\"\n",
    "SELECT Region, AVG(Profit) AS avg_profit\n",
    "FROM sample_superstore\n",
    "GROUP BY Region\n",
    "\"\"\")\n",
    "\n",
    "docs = c.fetchall()\n",
    "print(docs)"
   ]
  },
  {
   "cell_type": "markdown",
   "metadata": {},
   "source": [
    "**Window function**: Window functions perform calculations across a set of rows related to the current row within a query result set. They allow you to perform calculations and aggregations without grouping the result set into single rows, providing a more flexible and powerful way to analyze data."
   ]
  },
  {
   "cell_type": "code",
   "execution_count": 9,
   "metadata": {},
   "outputs": [],
   "source": [
    "import pandas as pd\n",
    "import mysql.connector\n",
    "\n",
    "mydb = mysql.connector.connect(\n",
    "  host=\"localhost\",\n",
    "  user=\"root\",\n",
    "  password=\"root\",\n",
    "  database=\"m1_ds2e\"\n",
    ")\n",
    "\n",
    "c = mydb.cursor()\n",
    "\n",
    "c.execute( \"\"\"\n",
    "SELECT Region, Profit,\n",
    "AVG(Profit) OVER (PARTITION BY Region) AS profit_rank\n",
    "FROM sample_superstore\n",
    "\"\"\")\n",
    "\n",
    "docs = c.fetchall()\n",
    "df = pd.DataFrame(docs, columns=[\"Region\",\"Profit\",\"Profit_Rank\"])"
   ]
  },
  {
   "cell_type": "code",
   "execution_count": 6,
   "metadata": {},
   "outputs": [
    {
     "name": "stdout",
     "output_type": "stream",
     "text": [
      "     Region       Profit  Profit_Rank\n",
      "0   Central   803.470500            1\n",
      "1   Central   691.317900            2\n",
      "2   Central   526.608000            3\n",
      "3   Central   499.649700            4\n",
      "4   Central   458.622000            5\n",
      "5   Central   433.220480            6\n",
      "6   Central   391.719900            7\n",
      "7   Central   349.409100            8\n",
      "8   Central   338.624400            9\n",
      "9   Central   229.059300           10\n",
      "10  Central   185.266000           11\n",
      "11  Central   173.662720           12\n",
      "12  Central    97.360000           13\n",
      "13  Central    94.819800           14\n",
      "14  Central    77.372000           15\n",
      "15  Central    67.847700           16\n",
      "16  Central    60.809700           17\n",
      "17  Central    25.116000           18\n",
      "18  Central    23.844000           19\n",
      "19  Central    23.820000           20\n",
      "20  Central    18.882580           21\n",
      "21  Central     7.270000           22\n",
      "22  Central     2.140000           23\n",
      "23  Central     1.320000           24\n",
      "24  Central     0.770000           25\n",
      "25  Central    -0.710000           26\n",
      "26  Central    -5.112000           27\n",
      "27  Central    -8.370000           28\n",
      "28  Central   -12.820000           29\n",
      "29  Central   -15.464000           30\n",
      "30  Central   -17.680000           31\n",
      "31  Central   -24.030000           32\n",
      "32  Central   -24.214400           33\n",
      "33  Central   -27.600924           34\n",
      "34  Central   -30.480000           35\n",
      "35  Central   -30.540000           36\n",
      "36  Central   -37.030000           37\n",
      "37  Central   -41.820000           38\n",
      "38  Central   -44.540000           39\n",
      "39  Central   -45.100000           40\n",
      "40  Central   -51.250000           41\n",
      "41  Central   -53.784000           42\n",
      "42  Central   -85.274640           43\n",
      "43  Central   -96.590000           44\n",
      "44  Central  -103.968480           45\n",
      "45  Central  -157.180000           46\n",
      "46  Central  -180.466560           47\n",
      "47  Central  -231.600000           48\n",
      "48  Central  -929.680000           49\n",
      "49  Central -1119.640000           50\n"
     ]
    }
   ],
   "source": [
    "print(df[df[\"Region\"]==\"Central\"])"
   ]
  },
  {
   "cell_type": "code",
   "execution_count": 10,
   "metadata": {},
   "outputs": [
    {
     "data": {
      "text/html": [
       "<div>\n",
       "<style scoped>\n",
       "    .dataframe tbody tr th:only-of-type {\n",
       "        vertical-align: middle;\n",
       "    }\n",
       "\n",
       "    .dataframe tbody tr th {\n",
       "        vertical-align: top;\n",
       "    }\n",
       "\n",
       "    .dataframe thead th {\n",
       "        text-align: right;\n",
       "    }\n",
       "</style>\n",
       "<table border=\"1\" class=\"dataframe\">\n",
       "  <thead>\n",
       "    <tr style=\"text-align: right;\">\n",
       "      <th></th>\n",
       "      <th>Region</th>\n",
       "      <th>Profit</th>\n",
       "      <th>Profit_Rank</th>\n",
       "    </tr>\n",
       "  </thead>\n",
       "  <tbody>\n",
       "    <tr>\n",
       "      <th>0</th>\n",
       "      <td>Central</td>\n",
       "      <td>1.320000</td>\n",
       "      <td>44.141136</td>\n",
       "    </tr>\n",
       "    <tr>\n",
       "      <th>1</th>\n",
       "      <td>Central</td>\n",
       "      <td>60.809700</td>\n",
       "      <td>44.141136</td>\n",
       "    </tr>\n",
       "    <tr>\n",
       "      <th>2</th>\n",
       "      <td>Central</td>\n",
       "      <td>-27.600924</td>\n",
       "      <td>44.141136</td>\n",
       "    </tr>\n",
       "    <tr>\n",
       "      <th>3</th>\n",
       "      <td>Central</td>\n",
       "      <td>-51.250000</td>\n",
       "      <td>44.141136</td>\n",
       "    </tr>\n",
       "    <tr>\n",
       "      <th>4</th>\n",
       "      <td>Central</td>\n",
       "      <td>338.624400</td>\n",
       "      <td>44.141136</td>\n",
       "    </tr>\n",
       "    <tr>\n",
       "      <th>...</th>\n",
       "      <td>...</td>\n",
       "      <td>...</td>\n",
       "      <td>...</td>\n",
       "    </tr>\n",
       "    <tr>\n",
       "      <th>170</th>\n",
       "      <td>West</td>\n",
       "      <td>1451.939400</td>\n",
       "      <td>216.866929</td>\n",
       "    </tr>\n",
       "    <tr>\n",
       "      <th>171</th>\n",
       "      <td>West</td>\n",
       "      <td>95.378700</td>\n",
       "      <td>216.866929</td>\n",
       "    </tr>\n",
       "    <tr>\n",
       "      <th>172</th>\n",
       "      <td>West</td>\n",
       "      <td>845.664000</td>\n",
       "      <td>216.866929</td>\n",
       "    </tr>\n",
       "    <tr>\n",
       "      <th>173</th>\n",
       "      <td>West</td>\n",
       "      <td>-239.419200</td>\n",
       "      <td>216.866929</td>\n",
       "    </tr>\n",
       "    <tr>\n",
       "      <th>174</th>\n",
       "      <td>West</td>\n",
       "      <td>-1301.814000</td>\n",
       "      <td>216.866929</td>\n",
       "    </tr>\n",
       "  </tbody>\n",
       "</table>\n",
       "<p>175 rows × 3 columns</p>\n",
       "</div>"
      ],
      "text/plain": [
       "      Region       Profit  Profit_Rank\n",
       "0    Central     1.320000    44.141136\n",
       "1    Central    60.809700    44.141136\n",
       "2    Central   -27.600924    44.141136\n",
       "3    Central   -51.250000    44.141136\n",
       "4    Central   338.624400    44.141136\n",
       "..       ...          ...          ...\n",
       "170     West  1451.939400   216.866929\n",
       "171     West    95.378700   216.866929\n",
       "172     West   845.664000   216.866929\n",
       "173     West  -239.419200   216.866929\n",
       "174     West -1301.814000   216.866929\n",
       "\n",
       "[175 rows x 3 columns]"
      ]
     },
     "execution_count": 10,
     "metadata": {},
     "output_type": "execute_result"
    }
   ],
   "source": [
    "df"
   ]
  },
  {
   "cell_type": "markdown",
   "metadata": {},
   "source": [
    "**Case statement**: \n",
    "The CASE statement in SQL is a powerful and flexible tool for performing conditional logic within queries. It allows you to evaluate one or more conditions and return a result based on the outcome of those conditions. The basic syntax of the CASE statement is as follows:"
   ]
  },
  {
   "cell_type": "code",
   "execution_count": 11,
   "metadata": {},
   "outputs": [
    {
     "name": "stdout",
     "output_type": "stream",
     "text": [
      "[('Avery 49', 0.01, 'Low discount'), ('SANFORD Liquid Accentâ„¢ Tank-Style Highlighters', 0.01, 'Low discount'), ('Xerox 1968', 0.03, 'Low discount'), ('AcmeÂ® Preferred Stainless Steel Scissors', 0.01, 'Low discount'), ('V70', 0.0, 'Low discount'), ('Xerox 194', 0.09, 'High discount'), ('Canon S750 Color Inkjet Printer', 0.08, 'High discount'), ('Global Troyâ„¢ Executive Leather Low-Back Tilter', 0.02, 'Low discount'), ('Xerox 1930', 0.08, 'High discount'), ('Kensington 6 Outlet MasterPieceÂ® HOMEOFFICE Power Control Center', 0.01, 'Low discount'), ('Xerox 21', 0.07, 'High discount'), ('*Staples* Highlighting Markers', 0.01, 'Low discount'), ('Accessory34', 0.1, 'High discount'), ('Xerox 1933', 0.05, 'High discount'), ('Sauder Forest Hills Library, Woodland Oak Finish', 0.08, 'High discount'), ('Riverside Furniture Stanwyck Manor Table Series', 0.1, 'High discount'), ('Park Ridgeâ„¢ Embossed Executive Business Envelopes', 0.06, 'High discount'), ('DAX Two-Tone Rosewood/Black Document Frame, Desktop, 5 x 7', 0.06, 'High discount'), ('FiskarsÂ® Softgrip Scissors', 0.04, 'Low discount'), ('Howard Miller 12-3/4 Diameter Accuwave DS â„¢ Wall Clock', 0.09, 'High discount'), ('Newell 321', 0.08, 'High discount'), ('Newell 351', 0.05, 'High discount'), ('OIC Colored Binder Clips, Assorted Sizes', 0.05, 'High discount'), ('Xerox 213', 0.01, 'Low discount'), ('Grip Seal Envelopes', 0.0, 'Low discount'), ('Tyvek Â® Top-Opening Peel & Seel Â® Envelopes, Gray', 0.01, 'Low discount'), ('Newell 310', 0.03, 'Low discount'), ('Xerox 1992', 0.04, 'Low discount'), ('Master Giant FootÂ® Doorstop, Safety Yellow', 0.0, 'Low discount'), ('Avery 05222 Permanent Self-Adhesive File Folder Labels for Typewriters, on Rolls, White, 250/Roll', 0.07, 'High discount'), ('Staples Gold Paper Clips', 0.04, 'Low discount'), ('StarTAC 7797', 0.05, 'High discount'), ('GBC Laser Imprintable Binding System Covers, Desert Sand', 0.08, 'High discount'), ('Dixon My First Ticonderoga Pencil, #2', 0.05, 'High discount'), ('Hoover Commercial Soft Guard Upright Vacuum And Disposable Filtration Bags', 0.05, 'High discount'), ('DAX Natural Wood-Tone Poster Frame', 0.05, 'High discount'), ('Belkin F9M820V08 8 Outlet Surge', 0.08, 'High discount'), ('Fellowes Twister Kit, Gray/Clear, 3/pkg', 0.07, 'High discount'), ('Advantus Plastic Paper Clips', 0.08, 'High discount'), ('Office Star Flex Back Scooter Chair with White Frame', 0.02, 'Low discount'), ('Avery 485', 0.01, 'Low discount'), ('Hewlett Packard 6S Scientific Calculator', 0.07, 'High discount'), ('Space Solutions Commercial Steel Shelving', 0.06, 'High discount'), ('Anderson Hickey Conga Table Tops & Accessories', 0.0, 'Low discount'), ('Xerox 197', 0.0, 'Low discount'), ('DAX Natural Wood-Tone Poster Frame', 0.05, 'High discount'), ('Advantus Plastic Paper Clips', 0.08, 'High discount'), ('Hewlett Packard 6S Scientific Calculator', 0.07, 'High discount'), ('Xerox 197', 0.0, 'Low discount'), ('Dixon My First Ticonderoga Pencil, #2', 0.05, 'High discount'), ('Hoover Commercial Soft Guard Upright Vacuum And Disposable Filtration Bags', 0.05, 'High discount'), ('Belkin F9M820V08 8 Outlet Surge', 0.08, 'High discount'), ('Fellowes Twister Kit, Gray/Clear, 3/pkg', 0.07, 'High discount'), ('Space Solutions Commercial Steel Shelving', 0.06, 'High discount'), ('Anderson Hickey Conga Table Tops & Accessories', 0.0, 'Low discount'), ('Office Star Flex Back Scooter Chair with White Frame', 0.02, 'Low discount'), ('Avery 485', 0.01, 'Low discount'), ('Nu-Dell Leatherette Frames', 0.05, 'High discount'), ('Xerox 1979', 0.0, 'Low discount'), ('Xerox 1929', 0.07, 'High discount'), ('BPI Conference Tables', 0.1, 'High discount'), ('Xerox 194', 0.06, 'High discount'), ('Newell 323', 0.02, 'Low discount'), ('V70', 0.07, 'High discount'), ('Boston 1730 StandUp Electric Pencil Sharpener', 0.06, 'High discount'), ('Harmony HEPA Quiet Air Purifiers', 0.07, 'High discount'), ('Xerox 1992', 0.05, 'High discount'), ('3M Office Air Cleaner', 0.06, 'High discount'), ('Dual Level, Single-Width Filing Carts', 0.05, 'High discount'), ('Belkin 8 Outlet SurgeMaster II Gold Surge Protector', 0.08, 'High discount'), ('Avery 498', 0.0, 'Low discount'), ('Avery 52', 0.09, 'High discount'), ('V 3600 Series', 0.06, 'High discount'), ('Eldon Image Series Black Desk Accessories', 0.04, 'Low discount'), ('Xerox 1880', 0.1, 'High discount'), ('Xerox 194', 0.06, 'High discount'), ('Coloredge Poster Frame', 0.06, 'High discount'), ('SC-3160', 0.01, 'Low discount'), ('Newell 346', 0.06, 'High discount'), ('Holmes Harmony HEPA Air Purifier for 17 x 20 Room', 0.07, 'High discount'), ('StarTAC Series', 0.08, 'High discount'), ('Avery 481', 0.08, 'High discount'), ('Xerox 1966', 0.01, 'Low discount'), ('Hunt BostonÂ® Vacuum Mount KS Pencil Sharpener', 0.08, 'High discount'), ('Canon P1-DHIII Palm Printing Calculator', 0.01, 'Low discount'), ('StarTAC 3000', 0.09, 'High discount'), ('TimeportP7382', 0.06, 'High discount'), ('Canon PC940 Copier', 0.06, 'High discount'), ('Storex DuraTech Recycled Plastic Frosted Binders', 0.03, 'Low discount'), ('Newell 338', 0.04, 'Low discount'), ('Wilson Jones Turn Tabs Binder Tool for Ring Binders', 0.05, 'High discount'), ('Novimex High-Tech Fabric Mesh Task Chair', 0.05, 'High discount'), ('Staples Copy Paper (20Lb. and 84 Bright)', 0.05, 'High discount'), ('Polycom ViewStationâ„¢ ISDN Videoconferencing Unit', 0.0, 'Low discount'), ('StarTAC 7760', 0.07, 'High discount'), ('Xerox 1968', 0.03, 'Low discount'), ('Xerox 1978', 0.1, 'High discount'), ('Newell 323', 0.02, 'Low discount'), ('SANFORD Major Accentâ„¢ Highlighters', 0.1, 'High discount'), ('Boston Electric Pencil Sharpener, Model 1818, Charcoal Black', 0.07, 'High discount'), ('Iris Project Case', 0.09, 'High discount'), ('KF 788', 0.09, 'High discount'), ('Accessory29', 0.03, 'Low discount'), ('AT&T 2230 Dual Handset Phone With Caller ID/Call Waiting', 0.0, 'Low discount'), ('AcmeÂ® Forged Steel Scissors with Black Enamel Handles', 0.05, 'High discount'), ('Global Deluxe Office Fabric Chairs', 0.06, 'High discount'), ('Belkin 7 Outlet SurgeMaster Surge Protector with Phone Protection', 0.1, 'High discount'), ('Advantus Push Pins, Aluminum Head', 0.08, 'High discount'), ('Microsoft Multimedia Keyboard', 0.0, 'Low discount'), ('Executive Impressions 12\" Wall Clock\"', 0.0, 'Low discount'), ('Canon P1-DHIII Palm Printing Calculator', 0.06, 'High discount'), ('Avery 506', 0.07, 'High discount'), ('Self-Adhesive Address Labels for Typewriters by Universal', 0.03, 'Low discount'), ('Accessory37', 0.01, 'Low discount'), ('Verbatim DVD-R 4.7GB authoring disc', 0.06, 'High discount'), ('Fellowes Command Center 5-outlet power strip', 0.08, 'High discount'), ('#10- 4 1/8\" x 9 1/2\"\" Security-Tint Envelopes\"', 0.04, 'Low discount'), ('GBC Binding covers', 0.04, 'Low discount'), ('3390', 0.0, 'Low discount'), ('Fellowes 17-key keypad for PS/2 interface', 0.1, 'High discount'), ('Hewlett-Packard Deskjet 6122 Color Inkjet Printer', 0.06, 'High discount'), ('12 Colored Short Pencils', 0.09, 'High discount'), ('PizazzÂ® Global Quick Fileâ„¢', 0.07, 'High discount'), ('6160', 0.0, 'Low discount'), ('TDK 4.7GB DVD-R Spindle, 15/Pack', 0.02, 'Low discount'), ('Deflect-OÂ® Glasstiqueâ„¢ Clear Desk Accessories', 0.08, 'High discount'), ('Okidata Pacemark 4410N Wide Format Dot Matrix Printer', 0.07, 'High discount'), ('Xerox 1903', 0.02, 'Low discount'), ('Avery 481', 0.09, 'High discount'), ('Hon 61000 Series Interactive Training Tables', 0.03, 'Low discount'), (\"O'Sullivan Elevations Bookcase, Cherry Finish\", 0.07, 'High discount'), ('Artistic Insta-Plaque', 0.01, 'Low discount'), ('Lesro Sheffield Collection Coffee Table, End Table, Center Table, Corner Table', 0.04, 'Low discount'), ('Durable Pressboard Binders', 0.06, 'High discount'), ('Newell 310', 0.06, 'High discount'), ('TOPS Voice Message Log Book, Flash Format', 0.04, 'Low discount'), ('Newell 312', 0.01, 'Low discount'), ('Storex Dura Proâ„¢ Binders', 0.1, 'High discount'), ('6190', 0.1, 'High discount'), ('GBC DocuBind 300 Electric Binding Machine', 0.1, 'High discount'), ('5185', 0.1, 'High discount'), ('Hunt BOSTONÂ® VistaÂ® Battery-Operated Pencil Sharpener, Black', 0.06, 'High discount'), ('Xerox 1930', 0.08, 'High discount'), ('Newell 339', 0.02, 'Low discount'), ('Hoover Replacement Belts For Soft Guardâ„¢ & Commercial Ltweight Upright Vacs, 2/Pk', 0.0, 'Low discount'), ('DMI Arturo Collection Mission-style Design Wood Chair', 0.09, 'High discount'), ('Eldon Base for stackable storage shelf, platinum', 0.02, 'Low discount'), ('AveryÂ® Durable Slant Ring Binders With Label Holder', 0.08, 'High discount'), ('Newell 340', 0.03, 'Low discount'), ('Global Leather Task Chair, Black', 0.08, 'High discount'), (\"O'Sullivan 5-Shelf Heavy-Duty Bookcases\", 0.05, 'High discount'), ('Staples Bulk Pack Metal Binder Clips', 0.03, 'Low discount'), ('Peel-OffÂ® China Markers', 0.1, 'High discount'), ('Xerox 191', 0.04, 'Low discount'), ('Verbatim DVD-R, 3.95GB, SR, Mitsubishi Branded, Jewel', 0.0, 'Low discount'), ('Verbatim DVD-RAM, 5.2GB, Rewritable, Type 1, DS', 0.0, 'Low discount'), ('Xerox 193', 0.02, 'Low discount'), ('Snap-A-WayÂ® Black Print Carbonless Speed Message, No Reply Area, Duplicate', 0.04, 'Low discount'), ('Dixon My First Ticonderoga Pencil, #2', 0.09, 'High discount'), ('IrisÂ® 3-Drawer Stacking Bin, Black', 0.02, 'Low discount'), ('Tripp Lite Isotel 8 Ultra 8 Outlet Metal Surge', 0.07, 'High discount'), ('Belkin 8 Outlet SurgeMaster II Gold Surge Protector', 0.02, 'Low discount'), ('3390', 0.06, 'High discount'), ('Document Clip Frames', 0.1, 'High discount'), ('Canon MP100DHII Printing Calculator', 0.04, 'Low discount'), ('Avery 501', 0.0, 'Low discount'), ('5165', 0.02, 'Low discount'), ('Deflect-o RollaMat Studded, Beveled Mat for Medium Pile Carpeting', 0.03, 'Low discount'), ('Accessory6', 0.05, 'High discount'), ('iDEN i550', 0.01, 'Low discount'), ('Multimedia Mailers', 0.09, 'High discount'), ('Black Print Carbonless Snap-OffÂ® Rapid Letter, 8 1/2\" x 7\"\"\"', 0.06, 'High discount'), ('Dual Level, Single-Width Filing Carts', 0.05, 'High discount'), ('Hon 4070 Series Pagodaâ„¢ Armless Upholstered Stacking Chairs', 0.0, 'Low discount'), ('Hon Valutaskâ„¢ Swivel Chairs', 0.07, 'High discount')]\n"
     ]
    }
   ],
   "source": [
    "import mysql.connector\n",
    "\n",
    "mydb = mysql.connector.connect(\n",
    "    host=\"localhost\",\n",
    "    user=\"root\",\n",
    "    password=\"root\",\n",
    "    database=\"m1_ds2e\"\n",
    ")\n",
    "\n",
    "c = mydb.cursor()\n",
    "\n",
    "c.execute( \"\"\"\n",
    "SELECT `Product Name`, Discount,\n",
    "    CASE \n",
    "        WHEN Discount >= 0.05 THEN 'High discount'\n",
    "        ELSE 'Low discount'\n",
    "    END AS Discount_Category\n",
    "FROM sample_superstore\n",
    "\"\"\")\n",
    "\n",
    "docs = c.fetchall()\n",
    "print(docs)"
   ]
  },
  {
   "cell_type": "markdown",
   "metadata": {},
   "source": [
    "The last thing I want to show you is **Trigger Event**. A trigger event, in the context of databases, refers to an action or operation that occurs within the database system and triggers the execution of a trigger. Triggers are special types of stored procedures that are automatically invoked in response to predefined events or actions, such as INSERT, UPDATE, DELETE operations on a table, or database-specific events like startup or shutdown. To demonstrate this we will create a new table which is an aggregate of profit and once a row is added in the original table then a trigger will launch to add a new row with the sum of porift and date."
   ]
  },
  {
   "cell_type": "code",
   "execution_count": 12,
   "metadata": {},
   "outputs": [],
   "source": [
    "import mysql.connector\n",
    "\n",
    "mydb = mysql.connector.connect(\n",
    "    host=\"localhost\",\n",
    "    user=\"root\",\n",
    "    password=\"root\",\n",
    "    database=\"m1_ds2e\"\n",
    ")\n",
    "\n",
    "c = mydb.cursor()\n",
    "\n",
    "c.execute( \"\"\"\n",
    "CREATE TABLE profit_summary (\n",
    "    Total_Profit DECIMAL(10, 2),\n",
    "    Date_insert DATE DEFAULT (CURRENT_DATE)\n",
    ")\n",
    "\"\"\")\n",
    "\n"
   ]
  },
  {
   "cell_type": "code",
   "execution_count": 13,
   "metadata": {},
   "outputs": [],
   "source": [
    "import mysql.connector\n",
    "\n",
    "mydb = mysql.connector.connect(\n",
    "    host=\"localhost\",\n",
    "    user=\"root\",\n",
    "    password=\"root\",\n",
    "    database=\"m1_ds2e\"\n",
    ")\n",
    "\n",
    "c = mydb.cursor()\n",
    "\n",
    "c.execute( \"\"\"\n",
    "CREATE TRIGGER update_profit_agg\n",
    "AFTER INSERT ON Profit\n",
    "FOR EACH ROW\n",
    "BEGIN\n",
    "    DECLARE total_profit DECIMAL(10, 2);\n",
    "    SELECT SUM(Profit) INTO total_profit\n",
    "    FROM Profit;\n",
    "    INSERT INTO profit_summary (Total_Profit) VALUES (total_profit);\n",
    "END;\n",
    "\"\"\")"
   ]
  },
  {
   "cell_type": "code",
   "execution_count": 15,
   "metadata": {},
   "outputs": [],
   "source": [
    "import mysql.connector\n",
    "\n",
    "mydb = mysql.connector.connect(\n",
    "    host=\"localhost\",\n",
    "    user=\"root\",\n",
    "    password=\"root\",\n",
    "    database=\"m1_ds2e\"\n",
    ")\n",
    "\n",
    "c = mydb.cursor()\n",
    "\n",
    "c.execute(\"\"\"\n",
    "INSERT INTO Profit (Profit) VALUES (25550)\n",
    "\"\"\")\n",
    "mydb.commit()"
   ]
  },
  {
   "cell_type": "markdown",
   "metadata": {},
   "source": [
    "<a name=\"PostgreSQL\"></a>\n",
    "## PostgreSQL\n",
    "\n",
    "https://www.enterprisedb.com/downloads/postgres-postgresql-downloads\n",
    "PostgreSQL, often referred to as \"Postgres,\" is an advanced open-source relational database management system (RDBMS) known for its robustness, reliability, and feature-rich capabilities. It is widely recognized for its adherence to SQL standards, extensibility, and support for advanced data types and features. For this section we will work on a dataset from UCI https://archive.ics.uci.edu/dataset/222/bank+marketing"
   ]
  },
  {
   "cell_type": "code",
   "execution_count": 17,
   "metadata": {},
   "outputs": [
    {
     "data": {
      "text/plain": [
       "Index(['age', 'job', 'marital', 'education', 'default_', 'balance', 'housing',\n",
       "       'loan', 'contact', 'day', 'month', 'duration', 'campaign', 'pdays',\n",
       "       'previous', 'poutcome', 'y'],\n",
       "      dtype='object')"
      ]
     },
     "execution_count": 17,
     "metadata": {},
     "output_type": "execute_result"
    }
   ],
   "source": [
    "import pandas as pd\n",
    "\n",
    "df = pd.read_csv(\"data/Chap1/bank_full.csv\")\n",
    "df.columns"
   ]
  },
  {
   "cell_type": "code",
   "execution_count": null,
   "metadata": {},
   "outputs": [],
   "source": [
    "!pip install psycopg2"
   ]
  },
  {
   "cell_type": "code",
   "execution_count": 7,
   "metadata": {},
   "outputs": [],
   "source": [
    "import psycopg2\n",
    "\n",
    "# Connect to PostgreSQL database\n",
    "conn = psycopg2.connect(dbname=\"new_db\", user=\"postgres\", password=\"root\", host=\"localhost\",  port=\"5432\")\n"
   ]
  },
  {
   "cell_type": "code",
   "execution_count": 2,
   "metadata": {},
   "outputs": [],
   "source": [
    "# Create a cursor object\n",
    "cur = conn.cursor()\n",
    "\n",
    "# Define the table schema\n",
    "table_name = \"bank_full\"\n",
    "columns = [\n",
    "    \"age INTEGER\",\n",
    "    \"job VARCHAR(100)\",\n",
    "    \"marital VARCHAR(20)\",\n",
    "    \"education VARCHAR(100)\",\n",
    "    \"default_ VARCHAR(10)\",\n",
    "    \"balance NUMERIC\",\n",
    "    \"housing VARCHAR(10)\",\n",
    "    \"loan VARCHAR(10)\",\n",
    "    \"contact VARCHAR(100)\",\n",
    "    \"day INTEGER\",\n",
    "    \"month VARCHAR(20)\",\n",
    "    \"duration INTEGER\",\n",
    "    \"campaign INTEGER\",\n",
    "    \"pdays INTEGER\",\n",
    "    \"previous INTEGER\",\n",
    "    \"poutcome VARCHAR(100)\",\n",
    "    \"y VARCHAR(10)\"\n",
    "]\n",
    "\n",
    "# Construct the CREATE TABLE query\n",
    "create_table_query = (\n",
    "    \"CREATE TABLE IF NOT EXISTS \" + table_name + \" (\" +\n",
    "    \", \".join(columns) +\n",
    "    \")\"\n",
    ")\n",
    "\n",
    "# Execute the CREATE TABLE query\n",
    "cur.execute(create_table_query)\n",
    "\n",
    "# Commit the transaction\n",
    "conn.commit()\n",
    "\n",
    "# Close cursor and connection\n",
    "cur.close()\n",
    "conn.close()"
   ]
  },
  {
   "attachments": {},
   "cell_type": "markdown",
   "metadata": {},
   "source": [
    "<a name=\"NoSQL\"></a>\n",
    "## NoSQL\n",
    "\n",
    "A csv (or RDBMS) works but is it really efficient ? Imagine a scenario with even more nested data (each author has an aff, an aff can have a list a members, each members has an age, ...).You could create different tables but each time you will need to join information of this different tables. That's where NoSQL comes in to save the day.\n",
    "\n",
    "\n",
    "Modifying the architecture in SQL is clunky. A lot of time is invested designing the data model because changes will impact all or most of the layers in the application.\n",
    "\n",
    "NoSQL is:\n",
    "- Meant for unstructured data.\n",
    "- Designed to manage lots of traffic and data.\n",
    "- Has no predefined schema.\n",
    "- Easy to query.\n",
    "\n",
    "Because of the context (Big Data), Unstructured data has become more and more present hence the interest in NoSQL. Indeed JSON (more on that in chapter I) data is the commonly used data format in Javascript and Javascript is present everywhere in almost every web page (dynamic vs static).\n",
    "\n",
    "The biggest advantage of NoSQL is that you get to skip the \"understand your data and usage patterns\" steps. But is it really an advantage ?\n",
    "\n",
    "NoSQL cons:\n",
    "- Don't really know what you are working with\n",
    "- Multiplicity of different DB (Meaning different \"language\" for some)\n",
    "- Flexible but can become messy so watch out\n",
    "\n",
    "IMO: Use SQL when you have a Static data flow or the change in the data is not regular and if the data fits in a row-column format. It's always better to have a good structure even if it asks to put a lot of work before hand. If you need flexibility or the data is really nested using Nosql DBs reduces the need for joins and lookups, making your queries faster.\n"
   ]
  },
  {
   "cell_type": "markdown",
   "metadata": {},
   "source": [
    "<p style=\"text-align: center;\"><b>Proportion of DBs usage</b></p>"
   ]
  },
  {
   "cell_type": "markdown",
   "metadata": {},
   "source": [
    "![test](./img/DB_piechart.png \"Title\")"
   ]
  },
  {
   "attachments": {},
   "cell_type": "markdown",
   "metadata": {},
   "source": [
    "Nothing new but we are surrounded by a lot of data, information flows faster than ever (i.e: big data). But what exactly is the type of data we get in huge quantity ? Text, Networks, Sound, Image, ...\n",
    "\n",
    "## What is NoSQL ? SQL vs NoSQL\n",
    "\n",
    "NoSQL stands for \"Not only SQL\", every database that does not use SQL (Structured Query Language) is called NoSQL even though every NoSQL DB does not work the same way. The difference between SQL and NoSQL databases is really just a comparison of relational vs. non-relational databases. Deciding when to use SQL vs. NoSQL depends on the kind of information you’re storing and the best way to store it. Both types store data, they just store data differently.\n",
    "Imagine you have a list of variables for research papers. authors, affiliations, title, references. How do you store it in a csv ? "
   ]
  },
  {
   "cell_type": "markdown",
   "metadata": {},
   "source": [
    "The popularity of DBs using SQL is still high (3/4). In your opinion why ? "
   ]
  },
  {
   "cell_type": "markdown",
   "metadata": {},
   "source": [
    "<p style=\"text-align: center;\"><b>Non exhaustive list of companies using NoSQL</b></p>"
   ]
  },
  {
   "cell_type": "markdown",
   "metadata": {},
   "source": [
    "<table><tr>\n",
    "<td> <img src=\"./img/Google.png\" alt=\"Drawing\" style=\"width: 150px;\"/> </td>\n",
    "<td> <img src=\"./img/Amazon logo.png\" alt=\"Drawing\" style=\"width: 150px;\"/> </td>\n",
    "<td> <img src=\"./img/Facebook.png\" alt=\"Drawing\" style=\"width: 150px;\"/> </td>\n",
    "<td> <img src=\"./img/Mozilla.png\" alt=\"Drawing\" style=\"width: 150px;\"/> </td>\n",
    "<td> <img src=\"./img/netflix.png\" alt=\"Drawing\" style=\"width: 150px;\"/> </td>\n",
    "<td> <img src=\"./img/Twitter.png\" alt=\"Drawing\" style=\"width: 150px;\"/> </td>\n",
    "</tr></table>"
   ]
  },
  {
   "cell_type": "markdown",
   "metadata": {},
   "source": [
    "Think before using one or the other.\n",
    "\n",
    "Before jumping into NoSQL directly we will take a look at what a unstructured data format looks like."
   ]
  },
  {
   "attachments": {},
   "cell_type": "markdown",
   "metadata": {},
   "source": [
    "<a name=\"Exercise\"></a>\n",
    "## Exercises\n",
    "\n",
    "## SQLITE\n",
    "\n",
    "**1**: Read all the data from bc.csv, how many rows is there ? Columns ? \n",
    "\n",
    "**2**: Insert the bc.csv in the sqlite format.\n",
    "\n",
    "**3**: In the same db create a new table called tomatch with two variables id_ and rdm_float. \n",
    "\n",
    "**4**: In the table tomatch insert observations where the id_ starts from 50k, ends at 10000000 and is only even numbers. rdm_float is a random float for each observation.\n",
    "\n",
    "**5**: Do an Inner join between the two tables and compute the different aggregate functions on a column of your choice.\n",
    "\n",
    "**6**: How many observations have a radius_mean greater than 15 ? From them how many have a texture_mean greater than 20 ?\n",
    "\n",
    "**7**: For each category in diagnosis do the mean of a variable and round it to get only 2 numbers after the comma. Compute the difference between the mean of both groups\n",
    "\n",
    "\n",
    "**8**: Change the name of the column \"diagnosis\" to \"label\"\n",
    "\n",
    "**9**: Add a column named \"day\" of type DATE.\n",
    "\n",
    "**10**: Change the type of the column \"area_mean\" to int (hint, not possible on sqlite, create a new column)\n",
    "\n",
    "**11**: create a new table called tomatch2 exactly the same way as tomatch except you increment id_ by 10.\n",
    "\n",
    "**12**: Do an inner join of bc, tomatch and tomatch2 where the radius_mean is greater than 15, and the rdm_float is greater than 0.50 in tomatch AND tomatch2. \n",
    "\n",
    "## MySQL\n",
    "\n",
    "**1**: How many orders were placed in total?\n",
    "\n",
    "**2**: What is the total sales amount?\n",
    "\n",
    "**3**: What is the average profit per order?\n",
    "\n",
    "**4**: Which customer has placed the most orders?\n",
    "\n",
    "**5**: What is the total profit for each product category?\n",
    "\n",
    "**6**: What is the average discount percentage?\n",
    "\n",
    "**7**: Which region has the highest total sales?\n",
    "\n",
    "**8**: How many orders were shipped using each shipping mode?\n",
    "\n",
    "**9**: What is the total quantity ordered for each product sub-category?\n",
    "\n",
    "**10**: Which product has the highest profit margin?\n",
    "\n",
    "**11**: What is the total sales amount for each year?\n",
    "\n",
    "**12**: Which customer segment has the highest average sales?\n",
    "\n",
    "## PostgreSQL\n",
    "\n",
    "**1**: What is the average age of the customers?\n",
    "\n",
    "**2**: How many customers have defaulted on loans?\n",
    "\n",
    "**3**: What is the maximum balance in the account?\n",
    "\n",
    "**4**: How many customers have a housing loan?\n",
    "\n",
    "**5**: What is the education level of the youngest customer?\n",
    "\n",
    "**6**: What is the marital status of the oldest customer?\n",
    "\n",
    "**7**: What is the distribution of the months in which customers were last contacted?\n",
    "\n",
    "**8**: What is the average duration of contact for customers who have a personal loan?\n",
    "\n",
    "**9**: How many customers were previously contacted, and what was the average duration of their last contact?\n",
    "\n",
    "**10**: What is the distribution of job types among customers?\n",
    "\n",
    "**11**: How many customers have been contacted more than once in the current campaign?\n",
    "\n",
    "**12**: What is the success rate of previous marketing campaigns (poutcome) among customers"
   ]
  }
 ],
 "metadata": {
  "kernelspec": {
   "display_name": "Python 3",
   "language": "python",
   "name": "python3"
  },
  "language_info": {
   "codemirror_mode": {
    "name": "ipython",
    "version": 3
   },
   "file_extension": ".py",
   "mimetype": "text/x-python",
   "name": "python",
   "nbconvert_exporter": "python",
   "pygments_lexer": "ipython3",
   "version": "3.9.13"
  }
 },
 "nbformat": 4,
 "nbformat_minor": 4
}
