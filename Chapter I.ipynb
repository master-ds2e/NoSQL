{
 "cells": [
  {
   "attachments": {},
   "cell_type": "markdown",
   "metadata": {},
   "source": [
    "# Introduction\n",
    "\n",
    "NoSQL databases are a popular alternative to traditional relational databases for handling big data and it offers high scalability, high availability and high flexibility. The course will teach you how to work with NoSQL databases and how to choose the right NoSQL database for your specific needs. \n",
    "\n",
    "## Structure\n",
    "\n",
    "- [Relational databases and tabular data](#RDBMs)\n",
    "- [SQLite](#SQLite)\n",
    "- [MySQL](#MySQL)\n",
    "- [PostgreSQL](#PostgreSQL)\n",
    "- [Intro to NoSQL](#NoSQL)\n",
    "- [Exercise](#Exercise)\n",
    "\n",
    "\n",
    "<a name=\"RDBMs\"></a>\n",
    "## Relational databases and tabular data\n",
    "\n",
    "Before jumping straight on NoSQL DBs let's take a step back with relational databases and tabular data. The most common format you probably encountered in programming is Comma Separated Values (CSV). CSV is a plain text file format used to store tabular data, with each row of the table represented as a separate line in the file and each column separated by a comma or other delimiter.\n",
    "\n"
   ]
  },
  {
   "cell_type": "code",
   "execution_count": null,
   "metadata": {},
   "outputs": [],
   "source": [
    "import pandas as pd\n",
    "\n",
    "df = pd.read_csv(\"data/Chap1/iris.csv\")\n",
    "df.head(5)"
   ]
  },
  {
   "cell_type": "code",
   "execution_count": null,
   "metadata": {},
   "outputs": [],
   "source": [
    "!pip install pandas"
   ]
  },
  {
   "cell_type": "code",
   "execution_count": null,
   "metadata": {},
   "outputs": [],
   "source": [
    "print(df[\"sepal.length\"])\n",
    "print(df.at[0,\"sepal.length\"])\n",
    "print(df.loc[0])\n",
    "df[(df[\"sepal.length\"] > 3) & (df[\"petal.length\"] > 1.2)]"
   ]
  },
  {
   "cell_type": "code",
   "execution_count": null,
   "metadata": {},
   "outputs": [],
   "source": [
    "# Iterate over all db\n",
    "\n",
    "for row in df.iterrows():\n",
    "    print(row)\n",
    "    break"
   ]
  },
  {
   "attachments": {},
   "cell_type": "markdown",
   "metadata": {},
   "source": [
    "Yet tabular data are impractical for huge amount of data \n",
    "\n",
    "Relational databases are a type of database management system that organize data into one or more tables or relations, with each table consisting of a set of rows and columns. Each row represents a unique record or entity, while each column represents a particular attribute or characteristic of that entity.\n",
    "\n",
    "In a relational database, the tables are related to each other through common fields or keys. For example, if you have a customer table and an orders table, you could link them through a customer ID field, which would allow you to associate specific orders with specific customers.\n",
    "\n",
    "Relational databases use a structured query language (SQL) to retrieve and manipulate data. SQL allows users to create, update, delete, and retrieve data from one or more tables based on specific criteria or conditions.\n",
    "\n",
    "Relational databases offer several advantages, including:\n",
    "\n",
    "- Data consistency: Data is consistent and standardized across an organization.\n",
    "\n",
    "- Scalability: Relational databases can handle large amounts of data and can easily scale as data volumes increase (Data not in your RAM).\n",
    "\n",
    "- Flexibility: Changes to a database structure can be made relatively easily and without disrupting existing applications or data.\n",
    "\n",
    "- Security: Relational databases offer built-in security features, such as user authentication and access control, to protect sensitive data.\n"
   ]
  },
  {
   "attachments": {},
   "cell_type": "markdown",
   "metadata": {},
   "source": [
    "<a name=\"SQLite\"></a>\n",
    "## SQLite\n",
    "\n",
    "I'll do a short introduction on sqlite3. I think it's a good entry point to SQL since its local and you can still monitor your data visually using [DB Browser](https://sqlitebrowser.org/).\n",
    "\n",
    "\"SQLite is a C-language library that implements a small, fast, self-contained, high-reliability, full-featured, SQL database engine.\" [(Official website)](https://www.sqlite.org/index.html). Sqlite3 is a library that provides an api that allows python 3 to interact with your sqlite DB. Incompatibility with python 2 so beware."
   ]
  },
  {
   "attachments": {},
   "cell_type": "markdown",
   "metadata": {},
   "source": [
    "You can use [DB browser](https://sqlitebrowser.org/) to check if it worked without going through Python. Sqlite3+DB browser is an easy entry point to SQL (still able to see your data, no server involved). Here is an example of basic operations of SQLite on the iris database. Starting with DB already existing:"
   ]
  },
  {
   "cell_type": "code",
   "execution_count": null,
   "metadata": {},
   "outputs": [],
   "source": [
    "import sqlite3\n",
    "\n",
    "#  Establishes a connection to an SQLite database file. The only argument is the path (If the file does not exist and empty file is created)\n",
    "conn = sqlite3.connect('data/Chap1/iris.db')\n",
    "\n",
    "# A cursor in SQL databases is a database object that allows you to retrieve and manipulate a set of data rows returned by a SQL statement, one row at a time.\n",
    "c = conn.cursor()\n",
    "\n",
    "# READ query (SQL language), Look at all the iris with sepal length > 5.\n",
    "c.execute(\"\"\"SELECT * FROM iris WHERE \"petal.length\" > 5\"\"\")\n",
    "\n",
    "#%% Two methods to go through your result\n",
    "\n",
    "# All in RAM\n",
    "docs = c.fetchall()\n",
    "print(docs)\n",
    "\n",
    "# Iteration\n",
    "\n",
    "c.execute(\"\"\"SELECT * FROM iris WHERE \"petal.length\" > 5\"\"\")\n",
    "\n",
    "for i in c:\n",
    "    print(i)\n",
    "    break\n"
   ]
  },
  {
   "cell_type": "code",
   "execution_count": null,
   "metadata": {},
   "outputs": [],
   "source": [
    "# UPDATE\n",
    "\n",
    "c.execute(\"\"\"UPDATE iris\n",
    "             SET \"sepal.length\" = 3\n",
    "             WHERE variety == \"Versicolor\" \"\"\")\n",
    "\n",
    "conn.commit()"
   ]
  },
  {
   "cell_type": "code",
   "execution_count": null,
   "metadata": {},
   "outputs": [],
   "source": [
    "c.execute(\"\"\"UPDATE iris\n",
    "             SET \"sepal.length\" = random()+1\n",
    "             WHERE variety == \"Versicolor\" \"\"\")\n",
    "\n",
    "conn.commit()"
   ]
  },
  {
   "cell_type": "code",
   "execution_count": null,
   "metadata": {},
   "outputs": [],
   "source": [
    "# DELETE\n",
    "\n",
    "c.execute(\"\"\"DELETE FROM iris WHERE \"sepal.length\" > 5\"\"\")\n",
    "\n",
    "#conn.commit() warning it will alter your db "
   ]
  },
  {
   "attachments": {},
   "cell_type": "markdown",
   "metadata": {},
   "source": [
    "Now if the Database does not exist we can create it the following way"
   ]
  },
  {
   "cell_type": "code",
   "execution_count": null,
   "metadata": {},
   "outputs": [],
   "source": [
    "import tqdm\n",
    "import sqlite3\n",
    "import pandas as pd\n",
    "\n",
    "df = pd.read_csv('data/Chap1/iris.csv')\n",
    "\n",
    "conn = sqlite3.connect('data/Chap1/iris_manual.db')\n",
    "c = conn.cursor()\n",
    "\n",
    "# Simple function to create table\n",
    "\n",
    "def create_table_iris():\n",
    "    try:\n",
    "        c.execute(\"\"\"CREATE TABLE IF NOT EXISTS iris(id INT PRIMARY KEY, \"sepal.length\" FLOAT, \"sepal.width\" FLOAT,\n",
    "                     \"petal.length\" FLOAT, \"petal.width\" FLOAT, variety TEXT)\"\"\")\n",
    "        # When an index is created on a column, the database system creates a data structure that contains a sorted copy of the column's values. \n",
    "        # This allows the database system to perform data retrieval operations more quickly than if it had to scan the entire table every time a query was executed.\n",
    "        c.execute(\"CREATE INDEX fast_id ON id(id)\")\n",
    "        conn.commit()\n",
    "    except Exception as e:\n",
    "        print(str(e))\n",
    "        \n",
    "# Sqlite3 excepts a table named \"main\" and therefore gives you a warning (can be ignored)\n",
    "create_table_iris()\n",
    "\n"
   ]
  },
  {
   "cell_type": "code",
   "execution_count": null,
   "metadata": {},
   "outputs": [],
   "source": [
    "# One by one\n",
    "\n",
    "query = \"\"\"INSERT INTO iris(id, \"sepal.length\", \"sepal.width\", \"petal.length\", \"petal.width\", variety) VALUES (?,?,?,?,?,?)\"\"\"\n",
    "\n",
    "for row in tqdm.tqdm(df.iterrows()):\n",
    "    id_ = row[0]\n",
    "    sepal_length = row[1][\"sepal.length\"]\n",
    "    sepal_width = row[1][\"sepal.width\"]\n",
    "    petal_length = row[1][\"petal.length\"]\n",
    "    petal_width = row[1][\"petal.width\"]\n",
    "    variety = row[1][\"variety\"]\n",
    "    values = (id_,sepal_length,sepal_width,petal_length, petal_width,variety)\n",
    "    c.execute(query, values)\n",
    "    conn.commit()"
   ]
  },
  {
   "cell_type": "code",
   "execution_count": null,
   "metadata": {},
   "outputs": [],
   "source": [
    "import sqlite3\n",
    "import tqdm\n",
    "\n",
    "conn = sqlite3.connect('data/Chap1/benchmark.db')\n",
    "c = conn.cursor()\n",
    "\n",
    "# Simple function to create table\n",
    "\n",
    "def create_table_benchmark():\n",
    "    try:\n",
    "        c.execute(\"\"\"CREATE TABLE IF NOT EXISTS test(id INT PRIMARY KEY)\"\"\")\n",
    "        # When an index is created on a column, the database system creates a data structure that contains a sorted copy of the column's values. \n",
    "        # This allows the database system to perform data retrieval operations more quickly than if it had to scan the entire table every time a query was executed.\n",
    "        c.execute(\"CREATE INDEX fast_id ON id(id)\")\n",
    "        conn.commit()\n",
    "    except Exception as e:\n",
    "        print(str(e))\n",
    "        \n",
    "# Sqlite3 excepts a table named \"main\" and therefore gives you a warning (can be ignored)\n",
    "create_table_benchmark()\n",
    "\n",
    "\n",
    "query = \"\"\"INSERT INTO test(id) VALUES (?)\"\"\"\n",
    "\n",
    "for i in tqdm.tqdm(range(0,100,1)):\n",
    "    values = (i,)\n",
    "    c.execute(query, values)\n",
    "    conn.commit()"
   ]
  },
  {
   "cell_type": "code",
   "execution_count": null,
   "metadata": {},
   "outputs": [],
   "source": [
    "import sqlite3\n",
    "import tqdm\n",
    "\n",
    "conn = sqlite3.connect('data/Chap1/benchmark.db')\n",
    "c = conn.cursor()\n",
    "\n",
    "# Simple function to create table\n",
    "\n",
    "def create_table_benchmark():\n",
    "    try:\n",
    "        c.execute(\"\"\"CREATE TABLE IF NOT EXISTS test2(id INT PRIMARY KEY)\"\"\")\n",
    "        # When an index is created on a column, the database system creates a data structure that contains a sorted copy of the column's values. \n",
    "        # This allows the database system to perform data retrieval operations more quickly than if it had to scan the entire table every time a query was executed.\n",
    "        c.execute(\"CREATE INDEX fast_id ON id(id)\")\n",
    "        conn.commit()\n",
    "    except Exception as e:\n",
    "        print(str(e))\n",
    "        \n",
    "# Sqlite3 excepts a table named \"main\" and therefore gives you a warning (can be ignored)\n",
    "create_table_benchmark()\n",
    "\n",
    "\n",
    "query = \"\"\"INSERT INTO test2(id) VALUES (?)\"\"\"\n",
    "\n",
    "for i in tqdm.tqdm(range(0,1000000,1)):\n",
    "    values = (i,)\n",
    "    c.execute(query, values)\n",
    "conn.commit()"
   ]
  },
  {
   "cell_type": "code",
   "execution_count": null,
   "metadata": {},
   "outputs": [],
   "source": [
    "import sqlite3\n",
    "import tqdm\n",
    "\n",
    "conn = sqlite3.connect('data/Chap1/benchmark.db')\n",
    "c = conn.cursor()\n",
    "\n",
    "def create_table_benchmark():\n",
    "    try:\n",
    "        c.execute(\"\"\"CREATE TABLE IF NOT EXISTS test3(id INT PRIMARY KEY)\"\"\")\n",
    "        # When an index is created on a column, the database system creates a data structure that contains a sorted copy of the column's values. \n",
    "        # This allows the database system to perform data retrieval operations more quickly than if it had to scan the entire table every time a query was executed.\n",
    "        c.execute(\"CREATE INDEX fast_id ON id(id)\")\n",
    "        conn.commit()\n",
    "    except Exception as e:\n",
    "        print(str(e))\n",
    "        \n",
    "# Sqlite3 excepts a table named \"main\" and therefore gives you a warning (can be ignored)\n",
    "create_table_benchmark()\n",
    "\n",
    "query = \"\"\"INSERT INTO test3(id) VALUES (?)\"\"\"\n",
    "\n",
    "\n",
    "list_of_insertion = []\n",
    "for i in tqdm.tqdm(range(0,1000000,2)):\n",
    "    values = (i,)\n",
    "    list_of_insertion.append(values)\n",
    "    if len(list_of_insertion) == 10000:\n",
    "        c.executemany(query, list_of_insertion)\n",
    "        list_of_insertion = []\n",
    "conn.commit()"
   ]
  },
  {
   "attachments": {},
   "cell_type": "markdown",
   "metadata": {},
   "source": [
    "Here are some desc stats you can do using SQL language"
   ]
  },
  {
   "cell_type": "code",
   "execution_count": null,
   "metadata": {},
   "outputs": [],
   "source": [
    "# Aggreagte function\n",
    "\n",
    "import sqlite3\n",
    "\n",
    "conn = sqlite3.connect('data/Chap1/iris_manual.db')\n",
    "c = conn.cursor()\n",
    "\n",
    "c.execute(\"\"\"SELECT \"petal.length\", variety, AVG(\"petal.width\"), SUM(\"petal.width\"), COUNT(\"petal.width\"), MIN(\"petal.width\"), MAX(\"petal.width\")\n",
    "             FROM iris \n",
    "             GROUP BY variety\n",
    "             \"\"\")\n",
    "\n",
    "docs = c.fetchall()\n",
    "print(docs)"
   ]
  },
  {
   "attachments": {},
   "cell_type": "markdown",
   "metadata": {},
   "source": [
    "Data won't be this clean in your day-to-day job. Let us take an example of a research article each observation can have different length of authors/references/..."
   ]
  },
  {
   "cell_type": "code",
   "execution_count": null,
   "metadata": {},
   "outputs": [],
   "source": [
    "# Init variables\n",
    "authors = [\"Auteur1\",\"Auteur2\",\"Auteur3\"]\n",
    "title = \"This is paper 1\"\n",
    "affiliations = [\"University of Mannheim\",\"University of Strasbourg\"]\n",
    "ref = [\"This is ref 1\",\"This is ref 2\",\"This is ref 3\"]"
   ]
  },
  {
   "cell_type": "code",
   "execution_count": null,
   "metadata": {},
   "outputs": [],
   "source": [
    "# Collapse list\n",
    "\n",
    "authors = \"\\n\".join(authors)\n",
    "aff = \"\\n\".join(affiliations)\n",
    "ref = \"\\n\".join(ref)\n",
    "print(authors)"
   ]
  },
  {
   "cell_type": "code",
   "execution_count": null,
   "metadata": {},
   "outputs": [],
   "source": [
    "# Create the DB\n",
    "import sqlite3\n",
    "\n",
    "# connect to your db, if it does not exists it creates it.\n",
    "conn = sqlite3.connect('data/Chap1/tuts.db')\n",
    "\n",
    "c = conn.cursor()\n",
    "\n",
    "# Simple function to create table\n",
    "\n",
    "def create_table_test():\n",
    "    try:\n",
    "        c.execute(\"\"\"CREATE TABLE IF NOT EXISTS test(id INT PRIMARY KEY, authors TEXT,\n",
    "                    title TEXT,affiliations TEXT, ref TEXT)\"\"\")\n",
    "        # Index to do query faster\n",
    "        c.execute(\"CREATE INDEX fast_id ON id(id)\")\n",
    "        conn.commit()\n",
    "    except Exception as e:\n",
    "        print(str(e))\n",
    "        \n",
    "# Sqlite3 excepts a table named \"main\" and therefore gives you a warning (can be ignored)\n",
    "create_table_test()\n"
   ]
  },
  {
   "cell_type": "code",
   "execution_count": null,
   "metadata": {},
   "outputs": [],
   "source": [
    "# SQL can be finicky when trying to insert using python, big difference between \" and '\n",
    "query = \"\"\"INSERT INTO test(id, authors,title,affiliations, ref) VALUES (?,?,?,?,?)\"\"\"\n",
    "values = (3,authors,title,aff, ref)\n",
    "c.execute(query, values)\n",
    "conn.commit()"
   ]
  },
  {
   "cell_type": "markdown",
   "metadata": {},
   "source": [
    "Now that we have a DB with multiple tables (benchmark) I think its time to introduce a fundamental concept in SQL: **Join**\n",
    "\n",
    "**Join:** A join is an operation that combines rows from two or more tables based on a related column between them. It allows you to retrieve data from multiple tables simultaneously, based on a common column or set of columns. There is multiple types of join Left Join, Right Join, Full Join, Inner Join.\n",
    "\n",
    "Since the goal of the course is NoSQL we will go more into details of the Joins in Chapter III. Here is a small example of left join."
   ]
  },
  {
   "cell_type": "code",
   "execution_count": null,
   "metadata": {},
   "outputs": [],
   "source": [
    "import sqlite3\n",
    "\n",
    "conn = sqlite3.connect('data/Chap1/benchmark.db')\n",
    "c = conn.cursor()\n",
    "\n",
    "c.execute(\"\"\"SELECT test.id as id_table1, test2.id as id_table2\n",
    "             FROM test \n",
    "             LEFT JOIN test2 \n",
    "             ON test.id=test2.id\n",
    "             \"\"\")\n",
    "\n",
    "docs = c.fetchall()\n",
    "print(docs)"
   ]
  },
  {
   "cell_type": "markdown",
   "metadata": {},
   "source": [
    "Consider a scenario where you've performed a left join operation, combining data from multiple tables, and you now want to work with this combined dataset without saving it permanently. You might find yourself repeatedly executing this join query whenever you need to perform more advanced operations, such as using aggregate functions. Alternatively, you may wish to streamline your script by creating a 'shortcut' that automatically executes this join query when needed, improving readability and maintainability.\n",
    "\n",
    "This is where the concept of a **'View'** becomes valuable. A view in SQL allows you to define a virtual table based on a query's result set, without physically storing the data. Essentially, a view acts as a saved query that can be referenced like a table. It provides a convenient way to encapsulate complex queries and present data in a structured format.\n",
    "\n",
    "It's important to note that while using a view enhances readability and organization of your SQL code, the underlying query defined in the view is still executed each time the view is accessed. Therefore, there's no performance gain in terms of execution time; rather, the benefit lies in improved code readability and maintainability.\""
   ]
  },
  {
   "cell_type": "code",
   "execution_count": null,
   "metadata": {},
   "outputs": [],
   "source": [
    "import sqlite3\n",
    "\n",
    "conn = sqlite3.connect('data/Chap1/benchmark.db')\n",
    "c = conn.cursor()\n",
    "\n",
    "# Create the view\n",
    "c.execute(\"\"\"CREATE VIEW test_join_view AS\n",
    "             SELECT test.id as id_table1, test2.id as id_table2\n",
    "             FROM test \n",
    "             LEFT JOIN test2 \n",
    "             ON test.id=test2.id\"\"\")\n",
    "\n",
    "# Commit the transaction\n",
    "conn.commit()\n",
    "\n",
    "# Close the connection\n",
    "conn.close()"
   ]
  },
  {
   "cell_type": "code",
   "execution_count": null,
   "metadata": {},
   "outputs": [],
   "source": [
    "# Connect to the database\n",
    "conn = sqlite3.connect('data/Chap1/benchmark.db')\n",
    "c = conn.cursor()\n",
    "\n",
    "# Query the view\n",
    "c.execute(\"\"\"SELECT * FROM test_join_view\n",
    "             WHERE id_table1 > 50\"\"\")\n",
    "docs = c.fetchall()\n",
    "print(docs)\n",
    "\n",
    "# Close the connection\n",
    "conn.close()"
   ]
  },
  {
   "cell_type": "code",
   "execution_count": null,
   "metadata": {},
   "outputs": [],
   "source": [
    "import sqlite3\n",
    "\n",
    "# Connect to the database\n",
    "conn = sqlite3.connect('data/Chap1/benchmark.db')\n",
    "c = conn.cursor()\n",
    "\n",
    "# Drop the view\n",
    "c.execute(\"DROP VIEW IF EXISTS test_join_view\")\n",
    "\n",
    "# Commit the transaction\n",
    "conn.commit()\n",
    "\n",
    "# Close the connection\n",
    "conn.close()"
   ]
  },
  {
   "attachments": {},
   "cell_type": "markdown",
   "metadata": {},
   "source": [
    "[Here]( https://www.sqltutorial.org/sql-cheat-sheet/) are some cheat sheet for SQL querys.\n",
    "\n",
    "SQLite is really useful to learn the language but chances are you will work with an online server and will need to use things like MySQL, Oracle, PostgreSQL,...\n",
    "The language is always (almost) the same but the way you will connect and run query might change.\n",
    "\n",
    "<a name=\"MySQL\"></a>\n",
    "## MySQL\n",
    "\n",
    "MySQL is an open-source relational database management system (RDBMS) that is based on the structure query language (SQL). It is developed, distributed, and supported by Oracle Corporation. It provides a powerful, scalable, and reliable platform for managing and manipulating large sets of data. MySQL is known for its ease of use, performance, and robustness, making it a widely adopted solution for various types of database-driven applications ranging from small-scale projects to enterprise-level systems.\n",
    "\n",
    "Let's just do a simple example of MySQL:\n",
    "\n",
    "From here https://dev.mysql.com/downloads/ you need to DL the community server, the workbench and the python connector. Once they are all installed and the server is up and running you should be able to run the next code"
   ]
  },
  {
   "cell_type": "code",
   "execution_count": null,
   "metadata": {},
   "outputs": [],
   "source": [
    "!pip install mysql-connector-python"
   ]
  },
  {
   "cell_type": "code",
   "execution_count": null,
   "metadata": {},
   "outputs": [],
   "source": [
    "import mysql.connector\n",
    "\n",
    "mydb = mysql.connector.connect(\n",
    "  host=\"localhost\",\n",
    "  user=\"root\",\n",
    "  password=\"root\"\n",
    ")\n",
    "\n",
    "print(mydb) \n",
    "\n",
    "c = mydb.cursor()\n",
    "\n",
    "c.execute(\"CREATE DATABASE mydatabase\")\n"
   ]
  },
  {
   "attachments": {},
   "cell_type": "markdown",
   "metadata": {},
   "source": [
    "If a database already exist you can connect directly to it"
   ]
  },
  {
   "cell_type": "code",
   "execution_count": null,
   "metadata": {},
   "outputs": [],
   "source": [
    "import mysql.connector\n",
    "\n",
    "mydb = mysql.connector.connect(\n",
    "  host=\"localhost\",\n",
    "  user=\"root\",\n",
    "  password=\"root\",\n",
    "  database=\"mydatabase\"\n",
    ")\n",
    "\n",
    "c = mydb.cursor()\n",
    "\n",
    "c.execute(\"CREATE TABLE customers (name VARCHAR(255), address VARCHAR(255))\")\n"
   ]
  },
  {
   "attachments": {},
   "cell_type": "markdown",
   "metadata": {},
   "source": [
    "You can now look at the DB in the workbench and execute query as seen in SQLite\n",
    "\n",
    "For the rest of this section I will show you a more concrete examples. The data is from this [PowerBI tutorial](https://www.youtube.com/watch?v=e6QD8lP-m6E) (I really recommend it just to put PowerBI in your CV)"
   ]
  },
  {
   "cell_type": "code",
   "execution_count": null,
   "metadata": {},
   "outputs": [],
   "source": [
    "import pandas as pd\n",
    "import mysql.connector\n",
    "\n",
    "mydb = mysql.connector.connect(\n",
    "  host=\"localhost\",\n",
    "  user=\"root\",\n",
    "  password=\"root\",\n",
    "  database=\"m1_ds2e\"\n",
    ")\n",
    "\n",
    "c = mydb.cursor()\n",
    "\n",
    "c.execute(\"SELECT * FROM sample_superstore\")\n",
    "\n",
    "docs = c.fetchall()\n",
    "\n",
    "columns = [description[0] for description in c.description]\n",
    "df = pd.DataFrame(docs, columns=columns)"
   ]
  },
  {
   "cell_type": "code",
   "execution_count": null,
   "metadata": {},
   "outputs": [],
   "source": [
    "df.head()"
   ]
  },
  {
   "cell_type": "code",
   "execution_count": null,
   "metadata": {},
   "outputs": [],
   "source": [
    "df.columns"
   ]
  },
  {
   "cell_type": "markdown",
   "metadata": {},
   "source": [
    "I think this data is perfect to introduce more advanced concepts in SQL.\n",
    "\n",
    "**Group by**: The GROUP BY clause in SQL is used to group rows that have the same values into summary rows, typically to perform aggregate functions on these groups. When you use GROUP BY, you are essentially creating groups of rows based on the values of one or more columns, and then applying aggregate functions to each group.\n",
    "\n",
    "**Window function**: Window functions perform calculations across a set of rows related to the current row within a query result set. They allow you to perform calculations and aggregations without grouping the result set into single rows, providing a more flexible and powerful way to analyze data.\n",
    "\n"
   ]
  },
  {
   "cell_type": "code",
   "execution_count": null,
   "metadata": {},
   "outputs": [],
   "source": [
    "import mysql.connector\n",
    "\n",
    "mydb = mysql.connector.connect(\n",
    "    host=\"localhost\",\n",
    "    user=\"root\",\n",
    "    password=\"root\",\n",
    "    database=\"m1_ds2e\"\n",
    ")\n",
    "\n",
    "c = mydb.cursor()\n",
    "\n",
    "c.execute( \"\"\"\n",
    "SELECT Region, AVG(Profit) AS avg_profit\n",
    "FROM sample_superstore\n",
    "GROUP BY Region\n",
    "\"\"\")\n",
    "\n",
    "docs = c.fetchall()\n",
    "print(docs)"
   ]
  },
  {
   "cell_type": "code",
   "execution_count": null,
   "metadata": {},
   "outputs": [],
   "source": [
    "import pandas as pd\n",
    "import mysql.connector\n",
    "\n",
    "mydb = mysql.connector.connect(\n",
    "  host=\"localhost\",\n",
    "  user=\"root\",\n",
    "  password=\"root\",\n",
    "  database=\"m1_ds2e\"\n",
    ")\n",
    "\n",
    "c = mydb.cursor()\n",
    "\n",
    "c.execute( \"\"\"\n",
    "SELECT Region, Profit,\n",
    "RANK() OVER (PARTITION BY Region ORDER BY Profit DESC) AS profit_rank\n",
    "FROM sample_superstore\n",
    "\"\"\")\n",
    "\n",
    "docs = c.fetchall()\n",
    "df = pd.DataFrame(docs, columns=[\"Region\",\"Profit\",\"Profit_Rank\"])"
   ]
  },
  {
   "cell_type": "code",
   "execution_count": null,
   "metadata": {},
   "outputs": [],
   "source": [
    "print(df[df[\"Region\"]==\"West\"])"
   ]
  },
  {
   "cell_type": "markdown",
   "metadata": {},
   "source": [
    "**Case statement**: \n",
    "The CASE statement in SQL is a powerful and flexible tool for performing conditional logic within queries. It allows you to evaluate one or more conditions and return a result based on the outcome of those conditions. The basic syntax of the CASE statement is as follows:"
   ]
  },
  {
   "cell_type": "code",
   "execution_count": null,
   "metadata": {},
   "outputs": [],
   "source": [
    "import mysql.connector\n",
    "\n",
    "mydb = mysql.connector.connect(\n",
    "    host=\"localhost\",\n",
    "    user=\"root\",\n",
    "    password=\"root\",\n",
    "    database=\"m1_ds2e\"\n",
    ")\n",
    "\n",
    "c = mydb.cursor()\n",
    "\n",
    "c.execute( \"\"\"\n",
    "SELECT `Product Name`, Discount,\n",
    "    CASE \n",
    "        WHEN Discount >= 0.05 THEN 'High discount'\n",
    "        ELSE 'Low discount'\n",
    "    END AS Discount_Category\n",
    "FROM sample_superstore\n",
    "\"\"\")\n",
    "\n",
    "docs = c.fetchall()\n",
    "print(docs)"
   ]
  },
  {
   "cell_type": "markdown",
   "metadata": {},
   "source": [
    "The last thing I want to show you is **Trigger Event**. A trigger event, in the context of databases, refers to an action or operation that occurs within the database system and triggers the execution of a trigger. Triggers are special types of stored procedures that are automatically invoked in response to predefined events or actions, such as INSERT, UPDATE, DELETE operations on a table, or database-specific events like startup or shutdown. To demonstrate this we will create a new table which is an aggregate of profit and once a row is added in the original table then a trigger will launch to add a new row with the sum of porift and date."
   ]
  },
  {
   "cell_type": "code",
   "execution_count": null,
   "metadata": {},
   "outputs": [],
   "source": [
    "import mysql.connector\n",
    "\n",
    "mydb = mysql.connector.connect(\n",
    "    host=\"localhost\",\n",
    "    user=\"root\",\n",
    "    password=\"root\",\n",
    "    database=\"m1_ds2e\"\n",
    ")\n",
    "\n",
    "c = mydb.cursor()\n",
    "\n",
    "c.execute( \"\"\"\n",
    "CREATE TABLE profit_summary (\n",
    "    Total_Profit DECIMAL(10, 2),\n",
    "    Date_insert DATE DEFAULT (CURRENT_DATE)\n",
    ")\n",
    "\"\"\")\n",
    "\n"
   ]
  },
  {
   "cell_type": "code",
   "execution_count": null,
   "metadata": {},
   "outputs": [],
   "source": [
    "import mysql.connector\n",
    "\n",
    "mydb = mysql.connector.connect(\n",
    "    host=\"localhost\",\n",
    "    user=\"root\",\n",
    "    password=\"root\",\n",
    "    database=\"m1_ds2e\"\n",
    ")\n",
    "\n",
    "c = mydb.cursor()\n",
    "\n",
    "c.execute( \"\"\"\n",
    "CREATE TRIGGER update_profit_agg\n",
    "AFTER INSERT ON Profit\n",
    "FOR EACH ROW\n",
    "BEGIN\n",
    "    DECLARE total_profit DECIMAL(10, 2);\n",
    "    SELECT SUM(Profit) INTO total_profit\n",
    "    FROM Profit;\n",
    "    INSERT INTO profit_summary (Total_Profit) VALUES (total_profit);\n",
    "END;\n",
    "\"\"\")"
   ]
  },
  {
   "cell_type": "code",
   "execution_count": null,
   "metadata": {},
   "outputs": [],
   "source": [
    "import mysql.connector\n",
    "\n",
    "mydb = mysql.connector.connect(\n",
    "    host=\"localhost\",\n",
    "    user=\"root\",\n",
    "    password=\"root\",\n",
    "    database=\"m1_ds2e\"\n",
    ")\n",
    "\n",
    "c = mydb.cursor()\n",
    "\n",
    "c.execute(\"\"\"\n",
    "INSERT INTO Profit (Profit) VALUES (25000)\n",
    "\"\"\")\n",
    "mydb.commit()"
   ]
  },
  {
   "cell_type": "markdown",
   "metadata": {},
   "source": [
    "<a name=\"PostgreSQL\"></a>\n",
    "## PostgreSQL\n",
    "\n",
    "https://www.enterprisedb.com/downloads/postgres-postgresql-downloads\n",
    "PostgreSQL, often referred to as \"Postgres,\" is an advanced open-source relational database management system (RDBMS) known for its robustness, reliability, and feature-rich capabilities. It is widely recognized for its adherence to SQL standards, extensibility, and support for advanced data types and features. For this section we will work on a dataset from UCI https://archive.ics.uci.edu/dataset/222/bank+marketing"
   ]
  },
  {
   "cell_type": "code",
   "execution_count": null,
   "metadata": {},
   "outputs": [],
   "source": [
    "import pandas as pd\n",
    "\n",
    "df = pd.read_csv(\"data/Chap1/bank-full.csv\")\n",
    "df.columns"
   ]
  },
  {
   "cell_type": "code",
   "execution_count": null,
   "metadata": {},
   "outputs": [],
   "source": [
    "!pip install psycopg2"
   ]
  },
  {
   "cell_type": "code",
   "execution_count": null,
   "metadata": {},
   "outputs": [],
   "source": [
    "import psycopg2\n",
    "\n",
    "# Connect to PostgreSQL database\n",
    "conn = psycopg2.connect(dbname=\"new_db\", user=\"postgres\", password=\"ROOT\", host=\"localhost\",  port=\"5432\" )\n"
   ]
  },
  {
   "cell_type": "code",
   "execution_count": null,
   "metadata": {},
   "outputs": [],
   "source": [
    "# Create a cursor object\n",
    "cur = conn.cursor()\n",
    "\n",
    "# Define the table schema\n",
    "table_name = \"bank_full\"\n",
    "columns = [\n",
    "    \"age INTEGER\",\n",
    "    \"job VARCHAR(100)\",\n",
    "    \"marital VARCHAR(20)\",\n",
    "    \"education VARCHAR(100)\",\n",
    "    \"default_ VARCHAR(10)\",\n",
    "    \"balance NUMERIC\",\n",
    "    \"housing VARCHAR(10)\",\n",
    "    \"loan VARCHAR(10)\",\n",
    "    \"contact VARCHAR(100)\",\n",
    "    \"day INTEGER\",\n",
    "    \"month VARCHAR(20)\",\n",
    "    \"duration INTEGER\",\n",
    "    \"campaign INTEGER\",\n",
    "    \"pdays INTEGER\",\n",
    "    \"previous INTEGER\",\n",
    "    \"poutcome VARCHAR(100)\",\n",
    "    \"y VARCHAR(10)\"\n",
    "]\n",
    "\n",
    "# Construct the CREATE TABLE query\n",
    "create_table_query = (\n",
    "    \"CREATE TABLE IF NOT EXISTS \" + table_name + \" (\" +\n",
    "    \", \".join(columns) +\n",
    "    \")\"\n",
    ")\n",
    "\n",
    "# Execute the CREATE TABLE query\n",
    "cur.execute(create_table_query)\n",
    "\n",
    "# Commit the transaction\n",
    "conn.commit()\n",
    "\n",
    "# Close cursor and connection\n",
    "cur.close()\n",
    "conn.close()"
   ]
  },
  {
   "attachments": {},
   "cell_type": "markdown",
   "metadata": {},
   "source": [
    "<a name=\"NoSQL\"></a>\n",
    "## NoSQL\n",
    "\n",
    "A csv (or RDBMS) works but is it really efficient ? Imagine a scenario with even more nested data (each author has an aff, an aff can have a list a members, each members has an age, ...).You could create different tables but each time you will need to join information of this different tables. That's where NoSQL comes in to save the day.\n",
    "\n",
    "\n",
    "Modifying the architecture in SQL is clunky. A lot of time is invested designing the data model because changes will impact all or most of the layers in the application.\n",
    "\n",
    "NoSQL is:\n",
    "- Meant for unstructured data.\n",
    "- Designed to manage lots of traffic and data.\n",
    "- Has no predefined schema.\n",
    "- Easy to query.\n",
    "\n",
    "Because of the context (Big Data), Unstructured data has become more and more present hence the interest in NoSQL. Indeed JSON (more on that in chapter I) data is the commonly used data format in Javascript and Javascript is present everywhere in almost every web page (dynamic vs static).\n",
    "\n",
    "The biggest advantage of NoSQL is that you get to skip the \"understand your data and usage patterns\" steps. But is it really an advantage ?\n",
    "\n",
    "NoSQL cons:\n",
    "- Don't really know what you are working with\n",
    "- Multiplicity of different DB (Meaning different \"language\" for some)\n",
    "- Flexible but can become messy so watch out\n",
    "\n",
    "IMO: Use SQL when you have a Static data flow or the change in the data is not regular and if the data fits in a row-column format. It's always better to have a good structure even if it asks to put a lot of work before hand. If you need flexibility or the data is really nested using Nosql DBs reduces the need for joins and lookups, making your queries faster.\n"
   ]
  },
  {
   "cell_type": "markdown",
   "metadata": {},
   "source": [
    "<p style=\"text-align: center;\"><b>Proportion of DBs usage</b></p>"
   ]
  },
  {
   "cell_type": "markdown",
   "metadata": {},
   "source": [
    "![test](./img/DB_piechart.png \"Title\")"
   ]
  },
  {
   "attachments": {},
   "cell_type": "markdown",
   "metadata": {},
   "source": [
    "Nothing new but we are surrounded by a lot of data, information flows faster than ever (i.e: big data). But what exactly is the type of data we get in huge quantity ? Text, Networks, Sound, Image, ...\n",
    "\n",
    "## What is NoSQL ? SQL vs NoSQL\n",
    "\n",
    "NoSQL stands for \"Not only SQL\", every database that does not use SQL (Structured Query Language) is called NoSQL even though every NoSQL DB does not work the same way. The difference between SQL and NoSQL databases is really just a comparison of relational vs. non-relational databases. Deciding when to use SQL vs. NoSQL depends on the kind of information you’re storing and the best way to store it. Both types store data, they just store data differently.\n",
    "Imagine you have a list of variables for research papers. authors, affiliations, title, references. How do you store it in a csv ? "
   ]
  },
  {
   "cell_type": "markdown",
   "metadata": {},
   "source": [
    "The popularity of DBs using SQL is still high (3/4). In your opinion why ? "
   ]
  },
  {
   "cell_type": "markdown",
   "metadata": {},
   "source": [
    "<p style=\"text-align: center;\"><b>Non exhaustive list of companies using NoSQL</b></p>"
   ]
  },
  {
   "cell_type": "markdown",
   "metadata": {},
   "source": [
    "<table><tr>\n",
    "<td> <img src=\"./img/Google.png\" alt=\"Drawing\" style=\"width: 150px;\"/> </td>\n",
    "<td> <img src=\"./img/Amazon logo.png\" alt=\"Drawing\" style=\"width: 150px;\"/> </td>\n",
    "<td> <img src=\"./img/Facebook.png\" alt=\"Drawing\" style=\"width: 150px;\"/> </td>\n",
    "<td> <img src=\"./img/Mozilla.png\" alt=\"Drawing\" style=\"width: 150px;\"/> </td>\n",
    "<td> <img src=\"./img/netflix.png\" alt=\"Drawing\" style=\"width: 150px;\"/> </td>\n",
    "<td> <img src=\"./img/Twitter.png\" alt=\"Drawing\" style=\"width: 150px;\"/> </td>\n",
    "</tr></table>"
   ]
  },
  {
   "cell_type": "markdown",
   "metadata": {},
   "source": [
    "Think before using one or the other.\n",
    "\n",
    "Before jumping into NoSQL directly we will take a look at what a unstructured data format looks like."
   ]
  },
  {
   "attachments": {},
   "cell_type": "markdown",
   "metadata": {},
   "source": [
    "<a name=\"Exercise\"></a>\n",
    "## Exercise\n",
    "\n",
    "## SQLITE\n",
    "\n",
    "**1**: Read all the data from bc.csv, how many rows is there ? Columns ? \n",
    "\n",
    "**2**: Insert the bc.csv in the sqlite format.\n",
    "\n",
    "**3**: In the same db create a new table called tomatch with two variables id_ and rdm_float. \n",
    "\n",
    "**4**: In the table tomatch insert observations where the id_ starts from 50k, ends at 10000000 and is only even numbers. rdm_float is a random float for each observation.\n",
    "\n",
    "**5**: Do an Inner join between the two tables and compute the different aggregate functions on a column of your choice.\n",
    "\n",
    "**6**: How many observations have a radius_mean greater than 15 ? From them how many have a texture_mean greater than 20 ?\n",
    "\n",
    "**7**: For each category in diagnosis do the mean of a variable and round it to get only 2 numbers after the comma. Compute the difference between the mean of both groups\n",
    "\n",
    "\n",
    "**8**: Change the name of the column \"diagnosis\" to \"label\"\n",
    "\n",
    "**9**: Add a column named \"day\" of type DATE.\n",
    "\n",
    "**10**: Change the type of the column \"area_mean\" to int (hint, not possible on sqlite, create a new column)\n",
    "\n",
    "**11**: create a new table called tomatch2 exactly the same way as tomatch except you increment id_ by 10.\n",
    "\n",
    "**12**: Do an inner join of bc, tomatch and tomatch2 where the radius_mean is greater than 15, and the rdm_float is greater than 0.50 in tomatch AND tomatch2. \n",
    "\n",
    "## MySQL\n",
    "\n",
    "**1**: How many orders were placed in total?\n",
    "\n",
    "**2**: What is the total sales amount?\n",
    "\n",
    "**3**: What is the average profit per order?\n",
    "\n",
    "**4**: Which customer has placed the most orders?\n",
    "\n",
    "**5**: What is the total profit for each product category?\n",
    "\n",
    "**6**: What is the average discount percentage?\n",
    "\n",
    "**7**: Which region has the highest total sales?\n",
    "\n",
    "**8**: How many orders were shipped using each shipping mode?\n",
    "\n",
    "**9**: What is the total quantity ordered for each product sub-category?\n",
    "\n",
    "**10**: Which product has the highest profit margin?\n",
    "\n",
    "**11**: What is the total sales amount for each year?\n",
    "\n",
    "**12**: Which customer segment has the highest average sales?\n",
    "\n",
    "## PostgreSQL\n",
    "\n",
    "**1**: What is the average age of the customers?\n",
    "\n",
    "**2**: How many customers have defaulted on loans?\n",
    "\n",
    "**3**: What is the maximum balance in the account?\n",
    "\n",
    "**4**: How many customers have a housing loan?\n",
    "\n",
    "**5**: What is the education level of the youngest customer?\n",
    "\n",
    "**6**: What is the marital status of the oldest customer?\n",
    "\n",
    "**7**: What is the distribution of the months in which customers were last contacted?\n",
    "\n",
    "**8**: What is the average duration of contact for customers who have a personal loan?\n",
    "\n",
    "**9**: How many customers were previously contacted, and what was the average duration of their last contact?\n",
    "\n",
    "**10**: What is the distribution of job types among customers?\n",
    "\n",
    "**11**: How many customers have been contacted more than once in the current campaign?\n",
    "\n",
    "**12**: What is the success rate of previous marketing campaigns (poutcome) among customers"
   ]
  }
 ],
 "metadata": {
  "kernelspec": {
   "display_name": "Python 3",
   "language": "python",
   "name": "python3"
  },
  "language_info": {
   "codemirror_mode": {
    "name": "ipython",
    "version": 3
   },
   "file_extension": ".py",
   "mimetype": "text/x-python",
   "name": "python",
   "nbconvert_exporter": "python",
   "pygments_lexer": "ipython3",
   "version": "3.12.2"
  }
 },
 "nbformat": 4,
 "nbformat_minor": 4
}
